{
 "cells": [
  {
   "cell_type": "code",
   "execution_count": 16,
   "metadata": {
    "autoscroll": false,
    "collapsed": false,
    "ein.tags": "worksheet-0",
    "slideshow": {
     "slide_type": "-"
    }
   },
   "outputs": [
    {
     "name": "stdout",
     "output_type": "stream",
     "text": [
      "Introduction to Bayesian Inference with Stan\n"
     ]
    }
   ],
   "source": [
    "print(\"Introduction to Bayesian Inference with Stan\")"
   ]
  },
  {
   "cell_type": "code",
   "execution_count": 17,
   "metadata": {
    "autoscroll": false,
    "collapsed": false,
    "ein.tags": "worksheet-0",
    "slideshow": {
     "slide_type": "-"
    }
   },
   "outputs": [],
   "source": [
    "import pystan\n",
    "import stan_utility\n",
    "import matplotlib\n",
    "import matplotlib.pyplot as plot\n",
    "import numpy"
   ]
  },
  {
   "cell_type": "code",
   "execution_count": 18,
   "metadata": {
    "autoscroll": false,
    "collapsed": false,
    "ein.tags": "worksheet-0",
    "slideshow": {
     "slide_type": "-"
    }
   },
   "outputs": [],
   "source": [
    "light = \"#DCBCBC\"\n",
    "light_highlight = \"#C79999\"\n",
    "mid = \"#B97C7C\"\n",
    "mid_highlight = \"#A25050\"\n",
    "dark = \"#8F2727\"\n",
    "dark_highlight = \"#7C0000\"\n",
    "green = \"#00FF00\""
   ]
  },
  {
   "cell_type": "code",
   "execution_count": null,
   "metadata": {
    "autoscroll": false,
    "collapsed": false,
    "ein.tags": "worksheet-0",
    "slideshow": {
     "slide_type": "-"
    }
   },
   "outputs": [
    {
     "name": "stderr",
     "output_type": "stream",
     "text": [
      "INFO:pystan:COMPILING THE C++ CODE FOR MODEL anon_model_19b499b62f3e95dcdb72e59b490489c9 NOW.\n"
     ]
    },
    {
     "name": "stdout",
     "output_type": "stream",
     "text": [
      "Fit Poisson Model\n"
     ]
    }
   ],
   "source": [
    "print(\"Fit Poisson Model\")\n",
    "data = pystan.read_rdump('poisson_progression.data.R')\n",
    "\n",
    "model = stan_utility.compile_model('poisson_progression1.stan')\n",
    "fit = model.sampling(data=data, seed=4938483)"
   ]
  },
  {
   "cell_type": "code",
   "execution_count": null,
   "metadata": {
    "autoscroll": false,
    "collapsed": false,
    "ein.tags": "worksheet-0",
    "slideshow": {
     "slide_type": "-"
    }
   },
   "outputs": [],
   "source": [
    "# Check diagnostics one by one\n",
    "stan_utility.check_all_diagnostics(fit)\n",
    "params = fit.extract()"
   ]
  },
  {
   "cell_type": "code",
   "execution_count": null,
   "metadata": {
    "autoscroll": false,
    "collapsed": false,
    "ein.tags": "worksheet-0",
    "slideshow": {
     "slide_type": "-"
    }
   },
   "outputs": [],
   "source": [
    "# Plot marginal posteriors\n",
    "plot.set_title(\"lambda\")\n",
    "plot.hist(params['lambda'], bins = 25, color = dark, ec = dark_highlight)\n",
    "plot.show()"
   ]
  },
  {
   "cell_type": "code",
   "execution_count": null,
   "metadata": {
    "autoscroll": false,
    "collapsed": false,
    "ein.tags": "worksheet-0",
    "slideshow": {
     "slide_type": "-"
    }
   },
   "outputs": [],
   "source": [
    "# Perform a posterior predictive check by plotting\n",
    "# posterior predictive distributions against data\n",
    "plot.hist(data['y'], bins=range(15), normed=True, alpha=0.75, color=dark, ec=dark_highlight)\n",
    "plot.hist(params['y_ppc'].flatten(), bins=range(15), normed=True,\n",
    "          alpha=0.75, color=mid, ec=mid_highlight)\n",
    "plot.show()"
   ]
  }
 ],
 "metadata": {
  "kernelspec": {
   "display_name": "Python 3",
   "name": "python3"
  },
  "name": "stan.ipynb"
 },
 "nbformat": 4,
 "nbformat_minor": 2
}
