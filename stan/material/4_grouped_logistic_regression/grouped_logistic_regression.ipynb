{
 "cells": [
  {
   "cell_type": "code",
   "execution_count": 11,
   "metadata": {
    "autoscroll": false,
    "collapsed": false,
    "ein.tags": "worksheet-0",
    "slideshow": {
     "slide_type": "-"
    }
   },
   "outputs": [],
   "source": [
    "import pystan\n",
    "import stan_utility\n",
    "import matplotlib\n",
    "import matplotlib.pyplot as plot\n",
    "# https://github.com/millejoh/emacs-ipython-notebook/issues/41\n",
    "matplotlib.rcParams[\"figure.facecolor\"] = \"white\"\n",
    "matplotlib.rcParams[\"axes.facecolor\"] = \"white\"\n",
    "matplotlib.rcParams[\"savefig.facecolor\"] = \"white\"\n",
    "import numpy"
   ]
  },
  {
   "cell_type": "code",
   "execution_count": null,
   "metadata": {
    "autoscroll": false,
    "collapsed": false,
    "ein.tags": "worksheet-0",
    "slideshow": {
     "slide_type": "-"
    }
   },
   "outputs": [],
   "source": [
    "figsize(10, 6)"
   ]
  },
  {
   "cell_type": "code",
   "execution_count": 13,
   "metadata": {
    "autoscroll": false,
    "collapsed": false,
    "ein.tags": "worksheet-0",
    "slideshow": {
     "slide_type": "-"
    }
   },
   "outputs": [],
   "source": [
    "light = \"#DCBCBC\"\n",
    "light_highlight = \"#C79999\"\n",
    "mid = \"#B97C7C\"\n",
    "mid_highlight = \"#A25050\"\n",
    "dark = \"#8F2727\"\n",
    "dark_highlight = \"#7C0000\"\n",
    "green = \"#00FF00\""
   ]
  },
  {
   "cell_type": "code",
   "execution_count": 14,
   "metadata": {
    "autoscroll": false,
    "collapsed": false,
    "ein.tags": "worksheet-0",
    "slideshow": {
     "slide_type": "-"
    }
   },
   "outputs": [
    {
     "data": {
      "text/plain": [
       "OrderedDict([('N_hand', array(2)),\n             ('y',\n              array([1, 1, 0, 1, 0, 1, 0, 0, 0, 1, 0, 1, 0, 1, 1, 1, 0, 0, 1, 0, 0, 1, 1,\n                     1, 0, 1, 0, 0, 1, 1, 0, 0, 1, 0, 0, 0, 0, 1, 0, 0, 1, 0, 0, 0, 0, 0,\n                     0, 0, 1, 1, 1, 0, 1, 1, 0, 0, 1, 1, 1, 0, 0, 1, 1, 0, 0, 1, 0, 1, 0,\n                     0, 1, 0, 1, 0, 0, 1, 1, 0, 1, 0, 0, 0, 0, 1, 0, 0, 0, 1, 1, 1, 0, 0,\n                     0, 0, 0, 1, 0, 1, 0, 1, 1, 1, 0, 1, 0, 0, 1, 1, 0, 0, 0, 0, 1, 0, 1,\n                     0, 0, 0, 0, 0, 0, 1, 0, 0, 0, 0, 1, 0, 0, 1, 1, 1, 0, 1, 0, 0, 0, 1,\n                     1, 1, 0, 0, 1, 1, 1, 1, 1, 0, 0, 0, 1, 1, 0, 0, 0, 1, 0, 1, 0, 1, 0,\n                     0, 1, 0, 0, 0, 0, 0, 0, 0, 0, 0, 1, 0, 0, 0, 0, 0, 0, 0, 0, 0, 1, 1,\n                     0, 0, 1, 1, 1, 1, 0, 1, 0, 0, 1, 0, 1, 0, 0, 0, 1, 0, 1, 0, 0, 0, 1,\n                     0, 1, 0, 1, 0, 0, 0, 0, 0, 1, 1, 0, 1, 0, 0, 0, 1, 0, 1, 1, 0, 1, 1,\n                     1, 0, 0, 1, 1, 0, 0, 0, 1, 0, 1, 0, 1, 0, 1, 1, 0, 1, 1, 0, 0, 0, 0,\n                     1, 0, 1, 0, 0, 1, 0, 0, 0, 1, 0, 0, 1, 1, 1, 1, 0, 1, 1, 0, 1, 0, 1,\n                     0, 1, 0, 0, 1, 0, 1, 1, 0, 0, 0, 0, 1, 0, 1, 0, 1, 1, 0, 0, 0, 1, 0,\n                     0, 0, 1, 0, 1, 1, 0, 0, 1, 1, 0, 0, 0, 1, 1, 0, 1, 0, 1, 0, 0, 1, 0,\n                     0, 0, 0, 1, 0, 0, 0, 0, 1, 1, 1, 1, 0, 1, 1, 0, 0, 1, 1, 0, 0, 1, 1,\n                     1, 0, 0, 1, 1, 0, 0, 0, 1, 1, 1, 0, 1, 0, 0, 1, 1, 0, 0, 0, 0, 0, 1,\n                     0, 1, 1, 0, 1, 1, 1, 0, 0, 1, 1, 1, 1, 0, 0, 1, 1, 1, 1, 1, 1, 1, 0,\n                     1, 0, 1, 0, 0, 1, 1, 0, 0, 0, 0, 1, 1, 1, 1, 0, 1, 1, 0, 0, 0, 1, 1,\n                     0, 1, 1, 0, 1, 0, 0, 1, 0, 0, 0, 0, 0, 0, 1, 0, 1, 0, 1, 1, 0, 0, 0,\n                     1, 1, 1, 0, 1, 0, 0, 0, 0, 1, 1, 1, 0, 0, 1, 0, 1, 0, 1, 0, 1, 1, 1,\n                     0, 1, 0, 0, 1, 1, 0, 0, 0, 1, 1, 1, 1, 0, 0, 0, 0, 0, 1, 0, 0, 0, 1,\n                     1, 1, 1, 1, 0, 1, 0, 1, 1, 0, 0, 1, 1, 1, 1, 0, 0])),\n             ('X',\n              array([[  8.76971671e-01,   4.36314145e-01,  -7.89829081e-01, ...,\n                        2.99925378e-02,  -1.02640962e-01,   4.43484721e-01],\n                     [  7.69079312e-01,   1.90370033e-01,   6.23829977e-01, ...,\n                        8.99552326e-04,   1.05351670e-02,   1.96678698e-01],\n                     [  6.74460769e-01,   8.30611382e-02,  -4.92719057e-01, ...,\n                        2.69798572e-05,  -1.08133967e-03,   8.72239973e-02],\n                     [  5.91482988e-01,   3.62407495e-02,   3.89163840e-01, ...,\n                        8.09194388e-07,   1.10989744e-04,   3.86825101e-02],\n                     [  5.18713824e-01,   1.58123516e-02,  -3.07372918e-01, ...,\n                        2.42697933e-08,  -1.13920941e-05,   1.71551022e-02]])),\n             ('hand',\n              array([1, 1, 1, 2, 2, 1, 1, 1, 2, 1, 1, 1, 2, 2, 2, 1, 2, 2, 2, 2, 2, 2, 1,\n                     1, 1, 1, 2, 2, 1, 1, 2, 1, 2, 2, 1, 2, 1, 1, 1, 1, 1, 2, 2, 2, 2, 1,\n                     1, 2, 1, 2, 1, 2, 1, 1, 1, 1, 2, 2, 1, 2, 2, 1, 1, 2, 1, 1, 1, 2, 2,\n                     2, 1, 2, 2, 1, 2, 1, 2, 2, 1, 2, 2, 2, 1, 1, 1, 2, 2, 2, 2, 1, 2, 2,\n                     2, 2, 1, 1, 1, 1, 1, 1, 1, 1, 1, 2, 2, 2, 1, 1, 2, 1, 2, 1, 2, 2, 1,\n                     2, 1, 2, 2, 2, 2, 1, 1, 2, 2, 2, 1, 1, 2, 1, 2, 2, 1, 2, 1, 2, 2, 2,\n                     1, 2, 2, 2, 1, 2, 1, 2, 1, 2, 1, 1, 2, 1, 2, 1, 1, 1, 2, 1, 2, 2, 1,\n                     2, 1, 2, 2, 2, 2, 2, 2, 1, 1, 2, 2, 1, 1, 2, 2, 1, 2, 2, 2, 1, 2, 1,\n                     2, 2, 1, 2, 1, 2, 2, 2, 1, 2, 1, 1, 1, 2, 2, 1, 1, 2, 2, 2, 2, 2, 1,\n                     2, 2, 2, 2, 1, 2, 1, 2, 2, 2, 1, 1, 1, 2, 1, 2, 1, 2, 2, 1, 2, 1, 1,\n                     2, 2, 1, 2, 2, 1, 2, 2, 1, 1, 2, 2, 1, 1, 1, 1, 2, 2, 1, 1, 1, 1, 2,\n                     1, 2, 1, 2, 2, 2, 1, 1, 2, 1, 2, 2, 2, 2, 1, 2, 2, 1, 2, 2, 1, 2, 2,\n                     1, 2, 2, 2, 1, 2, 1, 2, 1, 2, 2, 2, 2, 1, 1, 2, 1, 1, 1, 2, 1, 1, 1,\n                     1, 2, 1, 2, 2, 1, 1, 2, 1, 1, 1, 2, 1, 2, 1, 2, 2, 2, 1, 2, 2, 2, 1,\n                     2, 2, 2, 1, 1, 1, 2, 2, 1, 2, 1, 1, 2, 1, 1, 1, 2, 1, 2, 2, 2, 1, 1,\n                     2, 1, 1, 2, 1, 1, 2, 2, 1, 1, 1, 1, 1, 1, 2, 2, 1, 2, 2, 2, 1, 2, 2,\n                     2, 1, 2, 1, 1, 1, 1, 1, 2, 2, 2, 1, 2, 1, 1, 2, 1, 1, 1, 1, 1, 1, 2,\n                     1, 2, 1, 2, 2, 2, 1, 2, 1, 1, 2, 1, 1, 2, 1, 2, 1, 2, 2, 2, 2, 1, 1,\n                     2, 1, 1, 1, 1, 2, 1, 2, 2, 1, 2, 1, 1, 1, 1, 2, 1, 2, 1, 2, 1, 1, 2,\n                     2, 2, 2, 2, 2, 2, 2, 2, 2, 1, 1, 1, 2, 1, 1, 1, 2, 1, 1, 2, 2, 1, 1,\n                     1, 2, 2, 2, 1, 1, 1, 2, 2, 2, 1, 2, 2, 1, 2, 2, 2, 2, 2, 1, 1, 1, 1,\n                     2, 1, 1, 1, 2, 1, 2, 1, 2, 1, 1, 1, 1, 1, 2, 1, 2])),\n             ('M', array(5)),\n             ('N', array(500))])"
      ]
     },
     "execution_count": 14,
     "metadata": {},
     "output_type": "execute_result"
    }
   ],
   "source": [
    "data = pystan.read_rdump('grouped_logistic_regression.data.R')\n",
    "data"
   ]
  },
  {
   "cell_type": "code",
   "execution_count": null,
   "metadata": {
    "autoscroll": false,
    "collapsed": false,
    "ein.tags": "worksheet-0",
    "slideshow": {
     "slide_type": "-"
    }
   },
   "outputs": [
    {
     "name": "stdout",
     "output_type": "stream",
     "text": [
      "Using cached StanModel\n"
     ]
    },
    {
     "name": "stdout",
     "output_type": "stream",
     "text": [
      "n_eff / iter looks reasonable for all parameters\n",
      "Rhat looks reasonable for all parameters\n",
      "0.0 of 4000 iterations ended with a divergence (0.0%)\n",
      "0 of 4000 iterations saturated the maximum tree depth of 10 (0.0%)\n",
      "E-BFMI indicated no pathological behavior\n"
     ]
    },
    {
     "data": {
      "image/png": "[encoded data removed]",
      "text/plain": [
       "<matplotlib.figure.Figure at 0x1a1ba8f4a8>"
      ]
     },
     "metadata": {},
     "output_type": "display_data"
    }
   ],
   "source": [
    "############################################################\n",
    "# Fit logistic model\n",
    "############################################################\n",
    "\n",
    "model = stan_utility.compile_model('logistic_regression.stan')\n",
    "fit = model.sampling(data=data, seed=4938483)\n",
    "\n",
    "# Or all at once\n",
    "stan_utility.check_all_diagnostics(fit)\n",
    "\n",
    "# Default visual summaries\n",
    "fit.plot()\n",
    "params = fit.extract()\n",
    "\n",
    "# Plot marginal posteriors\n",
    "f, axarr = plot.subplots(2, 5)\n",
    "for a in axarr[0,:]:\n",
    "    a.xaxis.set_ticks_position('bottom')\n",
    "    a.yaxis.set_ticks_position('none')\n",
    "for a in axarr[1,:]:\n",
    "    a.xaxis.set_ticks_position('bottom')\n",
    "    a.yaxis.set_ticks_position('none')\n",
    "\n",
    "axarr[0, 0].set_title(\"beta_1\")\n",
    "axarr[0, 0].hist(params['beta'][:,0], bins = 25, color = dark, ec = dark_highlight)\n",
    "\n",
    "axarr[0, 1].set_title(\"beta_2\")\n",
    "axarr[0, 1].hist(params['beta'][:,1], bins = 25, color = dark, ec = dark_highlight)\n",
    "\n",
    "axarr[0, 2].set_title(\"beta_3\")\n",
    "axarr[0, 2].hist(params['beta'][:,2], bins = 25, color = dark, ec = dark_highlight)\n",
    "\n",
    "axarr[0, 3].set_title(\"beta_4\")\n",
    "axarr[0, 3].hist(params['beta'][:,1], bins = 25, color = dark, ec = dark_highlight)\n",
    "\n",
    "axarr[0, 4].set_title(\"beta_5\")\n",
    "axarr[0, 4].hist(params['beta'][:,2], bins = 25, color = dark, ec = dark_highlight)\n",
    "\n",
    "axarr[1, 0].set_title(\"alpha\")\n",
    "axarr[1, 0].hist(params['alpha'], bins = 25, color = dark, ec = dark_highlight)\n",
    "\n",
    "# axarr[1, 1].set_title(\"sigma\")\n",
    "# axarr[1, 1].hist(params['sigma'], bins = 25, color = dark, ec = dark_highlight)\n",
    "# axarr[1, 1].axvline(x=1, linewidth=2, color=light)\n",
    "\n",
    "plot.show()\n",
    "\n",
    "# Perform a posterior predictive check by plotting\n",
    "# posterior predictive distributions against data\n",
    "f, axarr = plot.subplots(2, 2)\n",
    "for a in axarr[0,:]:\n",
    "    a.xaxis.set_ticks_position('bottom')\n",
    "    a.yaxis.set_ticks_position('none')\n",
    "for a in axarr[1,:]:\n",
    "    a.xaxis.set_ticks_position('bottom')\n",
    "    a.yaxis.set_ticks_position('none')\n",
    "\n",
    "axarr[0, 0].set_title(\"p_hat_ppc\")\n",
    "axarr[0, 0].hist(params['p_hat_ppc'], bins = 25, color = dark, ec = dark_highlight)\n",
    "\n",
    "plot.show()"
   ]
  }
 ],
 "metadata": {
  "kernelspec": {
   "display_name": "Python 3",
   "name": "python3"
  },
  "name": "grouped_logistic_regression.ipynb"
 },
 "nbformat": 4,
 "nbformat_minor": 2
}
