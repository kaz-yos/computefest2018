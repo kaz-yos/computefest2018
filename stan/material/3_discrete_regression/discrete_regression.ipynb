{
 "cells": [
  {
   "cell_type": "code",
   "execution_count": 1,
   "metadata": {
    "autoscroll": false,
    "collapsed": false,
    "ein.tags": "worksheet-0",
    "slideshow": {
     "slide_type": "-"
    }
   },
   "outputs": [],
   "source": [
    "import pystan\n",
    "import stan_utility\n",
    "import matplotlib\n",
    "import matplotlib.pyplot as plot\n",
    "# https://github.com/millejoh/emacs-ipython-notebook/issues/41\n",
    "matplotlib.rcParams[\"figure.facecolor\"] = \"white\"\n",
    "matplotlib.rcParams[\"axes.facecolor\"] = \"white\"\n",
    "matplotlib.rcParams[\"savefig.facecolor\"] = \"white\"\n",
    "import numpy"
   ]
  },
  {
   "cell_type": "code",
   "execution_count": 2,
   "metadata": {
    "autoscroll": false,
    "collapsed": false,
    "ein.tags": "worksheet-0",
    "slideshow": {
     "slide_type": "-"
    }
   },
   "outputs": [],
   "source": [
    "light = \"#DCBCBC\"\n",
    "light_highlight = \"#C79999\"\n",
    "mid = \"#B97C7C\"\n",
    "mid_highlight = \"#A25050\"\n",
    "dark = \"#8F2727\"\n",
    "dark_highlight = \"#7C0000\"\n",
    "green = \"#00FF00\""
   ]
  },
  {
   "cell_type": "code",
   "execution_count": 3,
   "metadata": {
    "autoscroll": false,
    "collapsed": false,
    "ein.tags": "worksheet-0",
    "slideshow": {
     "slide_type": "-"
    }
   },
   "outputs": [
    {
     "data": {
      "text/plain": [
       "OrderedDict([('y',\n              array([13, 10,  6, 18,  6, 11, 12,  9,  2,  5,  2, 13,  5,  7, 12, 10,  6,\n                     15,  3, 12,  3,  3, 12, 10,  4,  5,  4,  5, 13,  7, 15,  9,  9, 13,\n                      4, 10,  7,  6, 15,  3,  3,  7, 10, 10,  5,  6,  6, 10,  5,  9,  6,\n                      7, 13, 17, 17,  6, 11,  8,  8, 17, 17,  4,  5, 10,  9, 15,  3,  5,\n                     14,  8, 11,  8,  9,  8,  8, 10,  8,  1,  8, 12,  7,  5, 13,  8,  5,\n                      5,  7,  7,  4,  7,  5,  5,  9,  9,  9, 10,  5, 17, 11, 16,  4, 13,\n                     11,  5,  7,  6,  4, 13, 10,  8,  5,  6,  3,  6,  6,  4,  9,  6, 19,\n                      3,  7,  6,  3,  9,  6,  2, 13,  4, 11,  7,  4,  7,  5, 12,  7,  6,\n                      8,  6,  5,  8,  8,  8, 10,  7, 10,  5,  5, 11,  2,  2, 18,  6,  8,\n                     14,  6, 10,  5, 14, 11,  8,  4,  7,  4,  5,  7,  5,  7,  6,  1,  4,\n                      3,  3, 11,  6,  5,  1, 10, 10,  2, 15, 10, 14,  5,  6, 10, 13,  3,\n                     17, 11,  7,  7, 15,  8, 15, 13, 11, 11,  5,  3,  8, 11,  9,  4, 13,\n                      6,  4,  9, 20, 16, 13,  9,  8,  8,  6, 10, 22,  3, 14,  5, 13,  3,\n                      4,  9, 10,  8,  7, 14,  5, 13, 12,  9, 15, 11,  6,  3,  8, 11,  3,\n                     11,  3,  2,  8,  9,  4, 10,  6, 10,  9,  6, 10,  7,  3,  4,  5,  4,\n                     11,  9,  4, 14, 22, 22,  9,  7,  4, 12, 17,  8,  6,  6,  6, 10, 10,\n                      5,  8,  9,  9, 10,  1, 12, 12,  6,  9, 11,  5,  9,  2,  6, 16,  6,\n                      9,  9,  8,  5, 10,  9, 12,  3,  8,  6, 15,  5,  8,  5,  8,  8,  4,\n                     22, 11, 12,  2, 17,  3, 10,  9,  9,  7,  9, 10,  9,  8,  8, 10,  1,\n                     12, 12,  8,  5, 17,  4, 14, 12,  9,  4,  5,  2,  5, 11,  8, 10, 11,\n                     10,  5, 12,  9,  3,  5,  2,  7,  2, 12, 12,  4,  9, 16, 10,  8, 10,\n                      5,  1, 10,  7,  9,  7,  5,  4,  6,  7,  8,  6,  9, 10,  8, 10,  4,\n                      6,  5,  2,  3,  8,  7, 10, 11, 21, 17,  6,  6,  7,  7,  6,  5,  3,\n                     14,  7,  5,  5,  8, 10,  0, 11,  9,  4,  6, 10, 15,  6, 16,  5,  9,\n                      7, 23, 14,  4, 14,  6,  5,  4, 11,  7,  9,  6,  6,  9,  3, 17, 13,\n                      5, 10,  3,  6, 10,  5, 12, 14, 16,  1,  4,  8, 12,  5, 21,  6,  2,\n                      4, 13,  6,  5, 12,  9, 10,  4, 10,  0,  6,  8,  5, 15,  8, 13, 11,\n                      5,  9,  6,  8,  9, 11,  5,  9, 11, 10,  4,  2,  6,  8,  8,  5,  7,\n                      5,  5, 16,  7,  7,  8,  5,  6,  3,  6,  8,  5,  5, 26, 14, 10, 16,\n                     11,  8, 11, 12,  2, 12, 11])),\n             ('X',\n              array([[ 0.87697167,  0.16618911,  0.3456181 , ...,  0.29840005,\n                       0.16803189, -0.61838476],\n                     [ 0.76907931,  0.02761882,  0.11945187, ...,  0.08904259,\n                       0.02823472,  0.38239971],\n                     [ 0.67446077,  0.00458995,  0.04128473, ...,  0.02657031,\n                       0.00474433, -0.23647016]])),\n             ('M', array(3)),\n             ('N', array(500))])"
      ]
     },
     "execution_count": 3,
     "metadata": {},
     "output_type": "execute_result"
    }
   ],
   "source": [
    "data = pystan.read_rdump('discrete_regression.data.R')\n",
    "data"
   ]
  },
  {
   "cell_type": "code",
   "execution_count": 4,
   "metadata": {
    "autoscroll": false,
    "collapsed": false,
    "ein.tags": "worksheet-0",
    "slideshow": {
     "slide_type": "-"
    }
   },
   "outputs": [
    {
     "ename": "FileNotFoundError",
     "evalue": "[Errno 2] No such file or directory: 'discrete_regression.stan'",
     "output_type": "error",
     "traceback": [
      "\u001b[0;31m\u001b[0m",
      "\u001b[0;31mFileNotFoundError\u001b[0mTraceback (most recent call last)",
      "\u001b[0;32m<ipython-input-4-8ebd2da1a931>\u001b[0m in \u001b[0;36m<module>\u001b[0;34m()\u001b[0m\n\u001b[1;32m      3\u001b[0m \u001b[0;31m############################################################\u001b[0m\u001b[0;34m\u001b[0m\u001b[0;34m\u001b[0m\u001b[0m\n\u001b[1;32m      4\u001b[0m \u001b[0;34m\u001b[0m\u001b[0m\n\u001b[0;32m----> 5\u001b[0;31m \u001b[0mmodel\u001b[0m \u001b[0;34m=\u001b[0m \u001b[0mstan_utility\u001b[0m\u001b[0;34m.\u001b[0m\u001b[0mcompile_model\u001b[0m\u001b[0;34m(\u001b[0m\u001b[0;34m'discrete_regression.stan'\u001b[0m\u001b[0;34m)\u001b[0m\u001b[0;34m\u001b[0m\u001b[0m\n\u001b[0m\u001b[1;32m      6\u001b[0m \u001b[0mfit\u001b[0m \u001b[0;34m=\u001b[0m \u001b[0mmodel\u001b[0m\u001b[0;34m.\u001b[0m\u001b[0msampling\u001b[0m\u001b[0;34m(\u001b[0m\u001b[0mdata\u001b[0m\u001b[0;34m=\u001b[0m\u001b[0mdata\u001b[0m\u001b[0;34m,\u001b[0m \u001b[0mseed\u001b[0m\u001b[0;34m=\u001b[0m\u001b[0;36m4938483\u001b[0m\u001b[0;34m)\u001b[0m\u001b[0;34m\u001b[0m\u001b[0m\n\u001b[1;32m      7\u001b[0m \u001b[0;34m\u001b[0m\u001b[0m\n",
      "\u001b[0;32m~/Documents/Meetings/IACS2018/stan/material/3_discrete_regression/stan_utility.py\u001b[0m in \u001b[0;36mcompile_model\u001b[0;34m(filename, model_name, **kwargs)\u001b[0m\n\u001b[1;32m    124\u001b[0m     \u001b[0;32mfrom\u001b[0m \u001b[0mhashlib\u001b[0m \u001b[0;32mimport\u001b[0m \u001b[0mmd5\u001b[0m\u001b[0;34m\u001b[0m\u001b[0m\n\u001b[1;32m    125\u001b[0m \u001b[0;34m\u001b[0m\u001b[0m\n\u001b[0;32m--> 126\u001b[0;31m     \u001b[0;32mwith\u001b[0m \u001b[0mopen\u001b[0m\u001b[0;34m(\u001b[0m\u001b[0mfilename\u001b[0m\u001b[0;34m)\u001b[0m \u001b[0;32mas\u001b[0m \u001b[0mf\u001b[0m\u001b[0;34m:\u001b[0m\u001b[0;34m\u001b[0m\u001b[0m\n\u001b[0m\u001b[1;32m    127\u001b[0m         \u001b[0mmodel_code\u001b[0m \u001b[0;34m=\u001b[0m \u001b[0mf\u001b[0m\u001b[0;34m.\u001b[0m\u001b[0mread\u001b[0m\u001b[0;34m(\u001b[0m\u001b[0;34m)\u001b[0m\u001b[0;34m\u001b[0m\u001b[0m\n\u001b[1;32m    128\u001b[0m         \u001b[0mcode_hash\u001b[0m \u001b[0;34m=\u001b[0m \u001b[0mmd5\u001b[0m\u001b[0;34m(\u001b[0m\u001b[0mmodel_code\u001b[0m\u001b[0;34m.\u001b[0m\u001b[0mencode\u001b[0m\u001b[0;34m(\u001b[0m\u001b[0;34m'ascii'\u001b[0m\u001b[0;34m)\u001b[0m\u001b[0;34m)\u001b[0m\u001b[0;34m.\u001b[0m\u001b[0mhexdigest\u001b[0m\u001b[0;34m(\u001b[0m\u001b[0;34m)\u001b[0m\u001b[0;34m\u001b[0m\u001b[0m\n",
      "\u001b[0;31mFileNotFoundError\u001b[0m: [Errno 2] No such file or directory: 'discrete_regression.stan'"
     ]
    }
   ],
   "source": [
    "############################################################\n",
    "# Fit initial Stan program\n",
    "############################################################\n",
    "\n",
    "model = stan_utility.compile_model('discrete_regression.stan')\n",
    "fit = model.sampling(data=data, seed=4938483)\n",
    "\n",
    "# Or all at once\n",
    "stan_utility.check_all_diagnostics(fit)\n",
    "\n",
    "# Default visual summaries\n",
    "fit.plot()\n",
    "plot.show()\n",
    "params = fit.extract()\n",
    "\n",
    "# Plot marginal posteriors\n",
    "f, axarr = plot.subplots(2, 3)\n",
    "for a in axarr[0,:]:\n",
    "    a.xaxis.set_ticks_position('bottom')\n",
    "    a.yaxis.set_ticks_position('none')\n",
    "for a in axarr[1,:]:\n",
    "    a.xaxis.set_ticks_position('bottom')\n",
    "    a.yaxis.set_ticks_position('none')\n",
    "\n",
    "axarr[0, 0].set_title(\"beta_1\")\n",
    "axarr[0, 0].hist(params['beta'][:,0], bins = 25, color = dark, ec = dark_highlight)\n",
    "axarr[0, 0].axvline(x=5, linewidth=2, color=light)\n",
    "\n",
    "axarr[0, 1].set_title(\"beta_2\")\n",
    "axarr[0, 1].hist(params['beta'][:,1], bins = 25, color = dark, ec = dark_highlight)\n",
    "axarr[0, 1].axvline(x=-3, linewidth=2, color=light)\n",
    "\n",
    "axarr[0, 2].set_title(\"beta_3\")\n",
    "axarr[0, 2].hist(params['beta'][:,2], bins = 25, color = dark, ec = dark_highlight)\n",
    "axarr[0, 2].axvline(x=2, linewidth=2, color=light)\n",
    "\n",
    "axarr[1, 0].set_title(\"alpha\")\n",
    "axarr[1, 0].hist(params['alpha'], bins = 25, color = dark, ec = dark_highlight)\n",
    "axarr[1, 0].axvline(x=10, linewidth=2, color=light)\n",
    "\n",
    "axarr[1, 1].set_title(\"sigma\")\n",
    "axarr[1, 1].hist(params['sigma'], bins = 25, color = dark, ec = dark_highlight)\n",
    "axarr[1, 1].axvline(x=1, linewidth=2, color=light)\n",
    "\n",
    "plot.show()\n",
    "\n",
    "# Perform a posterior predictive check by plotting\n",
    "# posterior predictive distributions against data\n",
    "f, axarr = plot.subplots(2, 2)\n",
    "for a in axarr[0,:]:\n",
    "    a.xaxis.set_ticks_position('bottom')\n",
    "    a.yaxis.set_ticks_position('none')\n",
    "for a in axarr[1,:]:\n",
    "    a.xaxis.set_ticks_position('bottom')\n",
    "    a.yaxis.set_ticks_position('none')\n",
    "\n",
    "axarr[0, 0].set_title(\"y_1\")\n",
    "axarr[0, 0].hist(params['y_ppc'][:,0], bins = 25, color = dark, ec = dark_highlight)\n",
    "axarr[0, 0].axvline(x=data['y'][0], linewidth=2, color=light)\n",
    "\n",
    "axarr[0, 1].set_title(\"y_5\")\n",
    "axarr[0, 1].hist(params['y_ppc'][:,4], bins = 25, color = dark, ec = dark_highlight)\n",
    "axarr[0, 1].axvline(x=data['y'][4], linewidth=2, color=light)\n",
    "\n",
    "axarr[1, 0].set_title(\"y_10\")\n",
    "axarr[1, 0].hist(params['y_ppc'][:,9], bins = 25, color = dark, ec = dark_highlight)\n",
    "axarr[1, 0].axvline(x=data['y'][9], linewidth=2, color=light)\n",
    "\n",
    "axarr[1, 1].set_title(\"y_15\")\n",
    "axarr[1, 1].hist(params['y_ppc'][:,14], bins = 25, color = dark, ec = dark_highlight)\n",
    "axarr[1, 1].axvline(x=data['y'][14], linewidth=2, color=light)\n",
    "\n",
    "plot.show()"
   ]
  }
 ],
 "metadata": {
  "kernelspec": {
   "display_name": "Python 3",
   "name": "python3"
  },
  "name": "discrete_regression.ipynb"
 },
 "nbformat": 4,
 "nbformat_minor": 2
}
