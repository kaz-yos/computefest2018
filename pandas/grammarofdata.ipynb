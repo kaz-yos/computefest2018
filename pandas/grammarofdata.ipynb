{
 "cells": [
  {
   "cell_type": "markdown",
   "metadata": {
    "ein.tags": "worksheet-0",
    "slideshow": {
     "slide_type": "-"
    }
   },
   "source": [
    "# EDA, Pandas, and the Grammar of Data\n",
    "\n",
    "---"
   ]
  },
  {
   "cell_type": "markdown",
   "metadata": {
    "ein.tags": "worksheet-0",
    "slideshow": {
     "slide_type": "-"
    }
   },
   "source": [
    "## The basic EDA workflow\n",
    "\n",
    "Below is a basic checklist for the early stages of exploratory data analysis in Python. While not universally applicable, the rubric covers patterns which recur in several data analysis contexts, so useful to keep it in mind when encountering a new dataset.\n",
    "\n",
    "The basic workflow (enunciated in this form by Chris Beaumont, the first Head TF of cs109 ever) is as follows:\n",
    "\n",
    "1. **Build** a Dataframe from the data (ideally, put all data in this object)\n",
    "2. **Clean** the Dataframe. It should have the following properties:\n",
    "    - Each row describes a single object\n",
    "    - Each column describes a property of that object\n",
    "    - Columns are numeric whenever appropriate\n",
    "    - Columns contain atomic properties that cannot be further decomposed\n",
    "    \n",
    "3. Explore **global properties**. Use histograms, scatter plots, and aggregation functions to summarize the data.\n",
    "4. Explore **group properties**. Use groupby, queries, and small multiples to compare subsets of the data.\n",
    "\n",
    "At any such point, you might have to deal with **RELATIONAL** aspects of the data, that is, the combining of data from multiple sources into a dataframe, before you do building, or cleaning, or global analysis, or group analysis.\n",
    "\n",
    "This process transforms the data into a format which is easier to work with, gives you a basic overview of the data's properties, and likely generates several questions for you to follow-up on in subsequent analysis."
   ]
  },
  {
   "cell_type": "code",
   "execution_count": 2,
   "metadata": {
    "autoscroll": false,
    "collapsed": false,
    "ein.tags": "worksheet-0",
    "slideshow": {
     "slide_type": "-"
    }
   },
   "outputs": [],
   "source": [
    "%matplotlib inline\n",
    "import numpy as np\n",
    "import scipy as sp\n",
    "import matplotlib as mpl\n",
    "import matplotlib.cm as cm\n",
    "import matplotlib.pyplot as plt\n",
    "import pandas as pd\n",
    "import time\n",
    "pd.set_option('display.width', 500)\n",
    "pd.set_option('display.max_columns', 100)\n",
    "pd.set_option('display.notebook_repr_html', True)"
   ]
  },
  {
   "cell_type": "markdown",
   "metadata": {
    "ein.tags": "worksheet-0",
    "slideshow": {
     "slide_type": "-"
    }
   },
   "source": [
    "### Building a dataframe\n",
    "\n",
    "The easiest way to build a dataframe is simply to read in a CSV file. We saw an example of this in lab, and we shall see 2 examples here. We'll also see how we may combine multiple data sources into a larger dataframe.\n",
    "\n",
    "This example is adapted from: https://github.com/tthibo/SQL-Tutorial"
   ]
  },
  {
   "cell_type": "markdown",
   "metadata": {
    "ein.tags": "worksheet-0",
    "slideshow": {
     "slide_type": "-"
    }
   },
   "source": [
    "The first 3 lines of the file (`!head -3 data/candidates.txt` on mac/unix) look like this.\n",
    "\n",
    "```\n",
    "id|first_name|last_name|middle_name|party\n",
    "33|Joseph|Biden||D\n",
    "36|Samuel|Brownback||R\n",
    "```"
   ]
  },
  {
   "cell_type": "code",
   "execution_count": 3,
   "metadata": {
    "autoscroll": false,
    "collapsed": false,
    "ein.tags": "worksheet-0",
    "slideshow": {
     "slide_type": "-"
    }
   },
   "outputs": [
    {
     "data": {
      "text/plain": [
       "   id   first_name  last_name middle_name party\n0  33       Joseph      Biden         NaN     D\n1  36       Samuel  Brownback         NaN     R\n2  34      Hillary    Clinton          R.     D\n3  39  Christopher       Dodd          J.     D\n4  26         John    Edwards         NaN     D"
      ]
     },
     "execution_count": 3,
     "metadata": {},
     "output_type": "execute_result"
    }
   ],
   "source": [
    "dfcand=pd.read_csv(\"./data/candidates.txt\", sep='|')\n",
    "dfcand.head()"
   ]
  },
  {
   "cell_type": "markdown",
   "metadata": {
    "ein.tags": "worksheet-0",
    "slideshow": {
     "slide_type": "-"
    }
   },
   "source": [
    "A pandas dataframe is a set of columns pasted together into a spreadsheet, as shown in the schematic below, which is taken from the cheatsheet above.  The columns in pandas are called *series* objects.\n",
    "\n",
    "![](images/pandastruct.png)"
   ]
  },
  {
   "cell_type": "markdown",
   "metadata": {
    "ein.tags": "worksheet-0",
    "slideshow": {
     "slide_type": "-"
    }
   },
   "source": [
    "All the columns in this dataframe:"
   ]
  },
  {
   "cell_type": "code",
   "execution_count": 4,
   "metadata": {
    "autoscroll": false,
    "collapsed": false,
    "ein.tags": "worksheet-0",
    "slideshow": {
     "slide_type": "-"
    }
   },
   "outputs": [
    {
     "data": {
      "text/plain": [
       "Index(['id', 'first_name', 'last_name', 'middle_name', 'party'], dtype='object')"
      ]
     },
     "execution_count": 4,
     "metadata": {},
     "output_type": "execute_result"
    }
   ],
   "source": [
    "dfcand.columns"
   ]
  },
  {
   "cell_type": "markdown",
   "metadata": {
    "ein.tags": "worksheet-0",
    "slideshow": {
     "slide_type": "-"
    }
   },
   "source": [
    "And the types of these columns:"
   ]
  },
  {
   "cell_type": "code",
   "execution_count": 5,
   "metadata": {
    "autoscroll": false,
    "collapsed": false,
    "ein.tags": "worksheet-0",
    "slideshow": {
     "slide_type": "-"
    }
   },
   "outputs": [
    {
     "data": {
      "text/plain": [
       "id              int64\nfirst_name     object\nlast_name      object\nmiddle_name    object\nparty          object\ndtype: object"
      ]
     },
     "execution_count": 5,
     "metadata": {},
     "output_type": "execute_result"
    }
   ],
   "source": [
    "dfcand.dtypes"
   ]
  },
  {
   "cell_type": "markdown",
   "metadata": {
    "ein.tags": "worksheet-0",
    "slideshow": {
     "slide_type": "-"
    }
   },
   "source": [
    "Access to a particular column can be obtained by treating the column name as an \"attribute\" of the dataframe:"
   ]
  },
  {
   "cell_type": "code",
   "execution_count": 6,
   "metadata": {
    "autoscroll": false,
    "collapsed": false,
    "ein.tags": "worksheet-0",
    "slideshow": {
     "slide_type": "-"
    }
   },
   "outputs": [
    {
     "data": {
      "text/plain": [
       "0          Joseph\n1          Samuel\n2         Hillary\n3     Christopher\n4            John\n5         Rudolph\n6            Mike\n7            Mike\n8          Duncan\n9          Dennis\n10           John\n11         Barack\n12            Ron\n13           Bill\n14           Mitt\n15            Tom\n16           Fred\nName: first_name, dtype: object"
      ]
     },
     "execution_count": 6,
     "metadata": {},
     "output_type": "execute_result"
    }
   ],
   "source": [
    "dfcand.first_name"
   ]
  },
  {
   "cell_type": "markdown",
   "metadata": {
    "ein.tags": "worksheet-0",
    "slideshow": {
     "slide_type": "-"
    }
   },
   "source": [
    "But Pandas supports a dictionary like access to columns. This is very useful when column names have spaces: Python variables cannot have spaces in them."
   ]
  },
  {
   "cell_type": "code",
   "execution_count": 7,
   "metadata": {
    "autoscroll": false,
    "collapsed": false,
    "ein.tags": "worksheet-0",
    "slideshow": {
     "slide_type": "-"
    }
   },
   "outputs": [
    {
     "data": {
      "text/plain": [
       "0          Joseph\n1          Samuel\n2         Hillary\n3     Christopher\n4            John\n5         Rudolph\n6            Mike\n7            Mike\n8          Duncan\n9          Dennis\n10           John\n11         Barack\n12            Ron\n13           Bill\n14           Mitt\n15            Tom\n16           Fred\nName: first_name, dtype: object"
      ]
     },
     "execution_count": 7,
     "metadata": {},
     "output_type": "execute_result"
    }
   ],
   "source": [
    "dfcand['first_name']"
   ]
  },
  {
   "cell_type": "markdown",
   "metadata": {
    "ein.tags": "worksheet-0",
    "slideshow": {
     "slide_type": "-"
    }
   },
   "source": [
    "We can also get sub-dataframes by choosing a set of series. We pass a list of the columns we want as \"dictionary keys\" to the dataframe."
   ]
  },
  {
   "cell_type": "code",
   "execution_count": 8,
   "metadata": {
    "autoscroll": false,
    "collapsed": false,
    "ein.tags": "worksheet-0",
    "slideshow": {
     "slide_type": "-"
    }
   },
   "outputs": [
    {
     "data": {
      "text/plain": [
       "     first_name   last_name\n0        Joseph       Biden\n1        Samuel   Brownback\n2       Hillary     Clinton\n3   Christopher        Dodd\n4          John     Edwards\n5       Rudolph    Giuliani\n6          Mike      Gravel\n7          Mike    Huckabee\n8        Duncan      Hunter\n9        Dennis    Kucinich\n10         John      McCain\n11       Barack       Obama\n12          Ron        Paul\n13         Bill  Richardson\n14         Mitt      Romney\n15          Tom    Tancredo\n16         Fred    Thompson"
      ]
     },
     "execution_count": 8,
     "metadata": {},
     "output_type": "execute_result"
    }
   ],
   "source": [
    "columns_i_want=['first_name', 'last_name']\n",
    "dfcand[columns_i_want]"
   ]
  },
  {
   "cell_type": "markdown",
   "metadata": {
    "ein.tags": "worksheet-0",
    "slideshow": {
     "slide_type": "-"
    }
   },
   "source": [
    "### Categoricals\n",
    "\n",
    "Even though `party` is a string, it takes on only a finite set of values, 'D', and 'R'. We can model this:"
   ]
  },
  {
   "cell_type": "code",
   "execution_count": 9,
   "metadata": {
    "autoscroll": false,
    "collapsed": false,
    "ein.tags": "worksheet-0",
    "slideshow": {
     "slide_type": "-"
    }
   },
   "outputs": [
    {
     "data": {
      "text/plain": [
       "array(['D', 'R'], dtype=object)"
      ]
     },
     "execution_count": 9,
     "metadata": {},
     "output_type": "execute_result"
    }
   ],
   "source": [
    "dfcand.party.unique()"
   ]
  },
  {
   "cell_type": "code",
   "execution_count": 10,
   "metadata": {
    "autoscroll": false,
    "collapsed": false,
    "ein.tags": "worksheet-0",
    "slideshow": {
     "slide_type": "-"
    }
   },
   "outputs": [],
   "source": [
    "dfcand['party'] = dfcand['party'].astype(\"category\")"
   ]
  },
  {
   "cell_type": "code",
   "execution_count": 11,
   "metadata": {
    "autoscroll": false,
    "collapsed": false,
    "ein.tags": "worksheet-0",
    "slideshow": {
     "slide_type": "-"
    }
   },
   "outputs": [
    {
     "data": {
      "text/plain": [
       "id                int64\nfirst_name       object\nlast_name        object\nmiddle_name      object\nparty          category\ndtype: object"
      ]
     },
     "execution_count": 11,
     "metadata": {},
     "output_type": "execute_result"
    }
   ],
   "source": [
    "dfcand.dtypes"
   ]
  },
  {
   "cell_type": "code",
   "execution_count": 12,
   "metadata": {
    "autoscroll": false,
    "collapsed": false,
    "ein.tags": "worksheet-0",
    "slideshow": {
     "slide_type": "-"
    }
   },
   "outputs": [
    {
     "data": {
      "text/plain": [
       "   id   first_name  last_name middle_name party\n0  33       Joseph      Biden         NaN     D\n1  36       Samuel  Brownback         NaN     R\n2  34      Hillary    Clinton          R.     D\n3  39  Christopher       Dodd          J.     D\n4  26         John    Edwards         NaN     D"
      ]
     },
     "execution_count": 12,
     "metadata": {},
     "output_type": "execute_result"
    }
   ],
   "source": [
    "dfcand.head()"
   ]
  },
  {
   "cell_type": "code",
   "execution_count": 13,
   "metadata": {
    "autoscroll": false,
    "collapsed": false,
    "ein.tags": "worksheet-0",
    "slideshow": {
     "slide_type": "-"
    }
   },
   "outputs": [
    {
     "data": {
      "text/plain": [
       "count     17\nunique     2\ntop        R\nfreq       9\nName: party, dtype: object"
      ]
     },
     "execution_count": 13,
     "metadata": {},
     "output_type": "execute_result"
    }
   ],
   "source": [
    "dfcand.party.describe()"
   ]
  },
  {
   "cell_type": "code",
   "execution_count": 14,
   "metadata": {
    "autoscroll": false,
    "collapsed": false,
    "ein.tags": "worksheet-0",
    "slideshow": {
     "slide_type": "-"
    }
   },
   "outputs": [
    {
     "data": {
      "text/plain": [
       "Index(['D', 'R'], dtype='object')"
      ]
     },
     "execution_count": 14,
     "metadata": {},
     "output_type": "execute_result"
    }
   ],
   "source": [
    "dfcand.party.cat.categories"
   ]
  },
  {
   "cell_type": "code",
   "execution_count": 15,
   "metadata": {
    "autoscroll": false,
    "collapsed": false,
    "ein.tags": "worksheet-0",
    "slideshow": {
     "slide_type": "-"
    }
   },
   "outputs": [
    {
     "data": {
      "text/plain": [
       "False"
      ]
     },
     "execution_count": 15,
     "metadata": {},
     "output_type": "execute_result"
    }
   ],
   "source": [
    "dfcand.party.cat.ordered"
   ]
  },
  {
   "cell_type": "markdown",
   "metadata": {
    "ein.tags": "worksheet-0",
    "slideshow": {
     "slide_type": "-"
    }
   },
   "source": [
    "Keep in mind that this is a relatively new feature of Pandas. You dont need to do this, but might find it useful to keep your types straight. (Using categoricals in machine learning algorithms is more complex and usually involves a process called One Hot Encoding)"
   ]
  },
  {
   "cell_type": "markdown",
   "metadata": {
    "ein.tags": "worksheet-0",
    "slideshow": {
     "slide_type": "-"
    }
   },
   "source": [
    "### Another piece of data"
   ]
  },
  {
   "cell_type": "markdown",
   "metadata": {
    "ein.tags": "worksheet-0",
    "slideshow": {
     "slide_type": "-"
    }
   },
   "source": [
    "This is a file of people who have contributed money to candidates:\n",
    "(`!head -3 data/contributors_with_candidate_id.txt`)\n",
    "\n",
    "```\n",
    "id|last_name|first_name|middle_name|street_1|street_2|city|state|zip|amount|date|candidate_id\n",
    "|Agee|Steven||549 Laurel Branch Road||Floyd|VA|24091|500.00|2007-06-30|16\n",
    "|Ahrens|Don||4034 Rennellwood Way||Pleasanton|CA|94566|250.00|2007-05-16|16\n",
    "```"
   ]
  },
  {
   "cell_type": "code",
   "execution_count": 16,
   "metadata": {
    "autoscroll": false,
    "collapsed": false,
    "ein.tags": "worksheet-0",
    "scrolled": true,
    "slideshow": {
     "slide_type": "-"
    }
   },
   "outputs": [
    {
     "data": {
      "text/plain": [
       "   id last_name first_name middle_name                street_1 street_2         city state    zip  amount        date  candidate_id\n0 NaN      Agee     Steven         NaN  549 Laurel Branch Road      NaN        Floyd    VA  24091   500.0  2007-06-30            16\n1 NaN    Ahrens        Don         NaN    4034 Rennellwood Way      NaN   Pleasanton    CA  94566   250.0  2007-05-16            16\n2 NaN    Ahrens        Don         NaN    4034 Rennellwood Way      NaN   Pleasanton    CA  94566    50.0  2007-06-18            16\n3 NaN    Ahrens        Don         NaN    4034 Rennellwood Way      NaN   Pleasanton    CA  94566   100.0  2007-06-21            16\n4 NaN      Akin    Charles         NaN  10187 Sugar Creek Road      NaN  Bentonville    AR  72712   100.0  2007-06-16            16"
      ]
     },
     "execution_count": 16,
     "metadata": {},
     "output_type": "execute_result"
    }
   ],
   "source": [
    "dfcwci=pd.read_csv(\"./data/contributors_with_candidate_id.txt\", sep=\"|\")\n",
    "dfcwci.head()"
   ]
  },
  {
   "cell_type": "markdown",
   "metadata": {
    "ein.tags": "worksheet-0",
    "slideshow": {
     "slide_type": "-"
    }
   },
   "source": [
    "### Cleaning Data\n",
    "\n",
    "most of the techniques you will learn about in Pandas are all about getting data in a form that can be used for further analysis. Cleaning usually means dealing with missing values, transforming types appropriately, and taking care of data integrity. But we'll lump everything required to transform data to a form appropriate for analysis **cleaning**, even if what we are doing is for example, combining multiple data sets, or producing processed data from raw data.\n",
    "\n",
    "Lets start with some regular cleaning:"
   ]
  },
  {
   "cell_type": "code",
   "execution_count": 17,
   "metadata": {
    "autoscroll": false,
    "collapsed": false,
    "ein.tags": "worksheet-0",
    "slideshow": {
     "slide_type": "-"
    }
   },
   "outputs": [
    {
     "data": {
      "text/plain": [
       "  last_name first_name middle_name                street_1 street_2         city state    zip  amount        date  candidate_id\n0      Agee     Steven         NaN  549 Laurel Branch Road      NaN        Floyd    VA  24091   500.0  2007-06-30            16\n1    Ahrens        Don         NaN    4034 Rennellwood Way      NaN   Pleasanton    CA  94566   250.0  2007-05-16            16\n2    Ahrens        Don         NaN    4034 Rennellwood Way      NaN   Pleasanton    CA  94566    50.0  2007-06-18            16\n3    Ahrens        Don         NaN    4034 Rennellwood Way      NaN   Pleasanton    CA  94566   100.0  2007-06-21            16\n4      Akin    Charles         NaN  10187 Sugar Creek Road      NaN  Bentonville    AR  72712   100.0  2007-06-16            16"
      ]
     },
     "execution_count": 17,
     "metadata": {},
     "output_type": "execute_result"
    }
   ],
   "source": [
    "# delete \n",
    "del dfcwci['id']\n",
    "dfcwci.head()"
   ]
  },
  {
   "cell_type": "markdown",
   "metadata": {
    "ein.tags": "worksheet-0",
    "slideshow": {
     "slide_type": "-"
    }
   },
   "source": [
    "We can see the size of our data"
   ]
  },
  {
   "cell_type": "code",
   "execution_count": 18,
   "metadata": {
    "autoscroll": false,
    "collapsed": false,
    "ein.tags": "worksheet-0",
    "slideshow": {
     "slide_type": "-"
    }
   },
   "outputs": [
    {
     "data": {
      "text/plain": [
       "((175, 11), (17, 5))"
      ]
     },
     "execution_count": 18,
     "metadata": {},
     "output_type": "execute_result"
    }
   ],
   "source": [
    "dfcwci.shape, dfcand.shape"
   ]
  },
  {
   "cell_type": "markdown",
   "metadata": {
    "ein.tags": "worksheet-0",
    "slideshow": {
     "slide_type": "-"
    }
   },
   "source": [
    "We will do some more cleaning soon but let us see the EDA process as sliced from another angle: data transformation, used both for cleaning and for seeing single column and multiple column properties in the data."
   ]
  },
  {
   "cell_type": "markdown",
   "metadata": {
    "ein.tags": "worksheet-0",
    "slideshow": {
     "slide_type": "-"
    }
   },
   "source": [
    "## Using SQL: Populating the database"
   ]
  },
  {
   "cell_type": "code",
   "execution_count": 19,
   "metadata": {
    "autoscroll": false,
    "collapsed": false,
    "ein.tags": "worksheet-0",
    "slideshow": {
     "slide_type": "-"
    }
   },
   "outputs": [],
   "source": [
    "ourschema=\"\"\"\n",
    "DROP TABLE IF EXISTS \"candidates\";\n",
    "DROP TABLE IF EXISTS \"contributors\";\n",
    "CREATE TABLE \"candidates\" (\n",
    "    \"id\" INTEGER PRIMARY KEY  NOT NULL ,\n",
    "    \"first_name\" VARCHAR,\n",
    "    \"last_name\" VARCHAR,\n",
    "    \"middle_name\" VARCHAR,\n",
    "    \"party\" VARCHAR NOT NULL\n",
    ");\n",
    "CREATE TABLE \"contributors\" (\n",
    "    \"id\" INTEGER PRIMARY KEY  AUTOINCREMENT  NOT NULL,\n",
    "    \"last_name\" VARCHAR,\n",
    "    \"first_name\" VARCHAR,\n",
    "    \"middle_name\" VARCHAR,\n",
    "    \"street_1\" VARCHAR,\n",
    "    \"street_2\" VARCHAR,\n",
    "    \"city\" VARCHAR,\n",
    "    \"state\" VARCHAR,\n",
    "    \"zip\" VARCHAR,\n",
    "    \"amount\" INTEGER,\n",
    "    \"date\" DATETIME,\n",
    "    \"candidate_id\" INTEGER NOT NULL,\n",
    "    FOREIGN KEY(candidate_id) REFERENCES candidates(id)\n",
    ");\n",
    "\"\"\""
   ]
  },
  {
   "cell_type": "markdown",
   "metadata": {
    "ein.tags": "worksheet-0",
    "slideshow": {
     "slide_type": "-"
    }
   },
   "source": [
    "### SQLITE\n",
    "\n",
    "We use sqlite here (and recommend Postgres for production purposes). Still sqlite is great for on-disk large databases which wont fit into memory. \n",
    "\n",
    "Its also built into Python, but to use the [command line tool](https://www.sqlite.org/cli.html), I recommend you install it: https://www.sqlite.org/download.html. I also recommend you download and install the sqlite browser: http://sqlitebrowser.org .\n",
    "\n",
    "Python implements a standard database API over all databases. Its called [DBAPI2](http://cewing.github.io/training.codefellows/lectures/day21/intro_to_dbapi2.html). It works across many SQL databases.\n",
    "\n",
    "There is an even higher level API available, called [SQLAlchemy](http://www.sqlalchemy.org). While we wont use it here, I thoroughly recommend it, either in its direct relational form, or ORM form. Many things in Pandas use it to interface with databases. Here we'll get away with things by using SQLITE."
   ]
  },
  {
   "cell_type": "code",
   "execution_count": 97,
   "metadata": {
    "autoscroll": false,
    "collapsed": false,
    "ein.tags": "worksheet-0",
    "slideshow": {
     "slide_type": "-"
    }
   },
   "outputs": [],
   "source": [
    "from sqlite3 import dbapi2 as sq3\n",
    "import os\n",
    "PATHSTART=\".\"\n",
    "def get_db(dbfile):\n",
    "    sqlite_db = sq3.connect(os.path.join(PATHSTART, dbfile))\n",
    "    return sqlite_db"
   ]
  },
  {
   "cell_type": "markdown",
   "metadata": {
    "ein.tags": "worksheet-0",
    "slideshow": {
     "slide_type": "-"
    }
   },
   "source": [
    "Drop tables if they exist and create them."
   ]
  },
  {
   "cell_type": "code",
   "execution_count": 98,
   "metadata": {
    "autoscroll": false,
    "collapsed": false,
    "ein.tags": "worksheet-0",
    "slideshow": {
     "slide_type": "-"
    }
   },
   "outputs": [],
   "source": [
    "def init_db(dbfile, schema):\n",
    "    \"\"\"Creates the database tables.\"\"\"\n",
    "    db = get_db(dbfile)\n",
    "    db.cursor().executescript(schema)\n",
    "    # Commit, otherwise nothing happens.\n",
    "    db.commit()\n",
    "    return db"
   ]
  },
  {
   "cell_type": "code",
   "execution_count": 99,
   "metadata": {
    "autoscroll": false,
    "collapsed": false,
    "ein.tags": "worksheet-0",
    "slideshow": {
     "slide_type": "-"
    }
   },
   "outputs": [],
   "source": [
    "db=init_db(\"/tmp/cancont.db\", ourschema)"
   ]
  },
  {
   "cell_type": "code",
   "execution_count": 104,
   "metadata": {
    "autoscroll": false,
    "collapsed": false,
    "ein.tags": "worksheet-0",
    "slideshow": {
     "slide_type": "-"
    }
   },
   "outputs": [
    {
     "name": "stdout",
     "output_type": "stream",
     "text": [
      "-rw-r--r-- 1 kazuki wheel 36864 Jan 19 10:07 /tmp/cancont.db\r\n"
     ]
    }
   ],
   "source": [
    "!ls -lrt /tmp/cancont.db"
   ]
  },
  {
   "cell_type": "markdown",
   "metadata": {
    "ein.tags": "worksheet-0",
    "slideshow": {
     "slide_type": "-"
    }
   },
   "source": [
    "#### Populating with Pandas!!"
   ]
  },
  {
   "cell_type": "code",
   "execution_count": 100,
   "metadata": {
    "autoscroll": false,
    "collapsed": false,
    "ein.tags": "worksheet-0",
    "slideshow": {
     "slide_type": "-"
    }
   },
   "outputs": [],
   "source": [
    "# \n",
    "dfcand.to_sql(\"candidates\", db, if_exists = \"append\", index = False)\n",
    "dfcwci.to_sql(\"contributors\", db, if_exists = \"append\", index = False)"
   ]
  },
  {
   "cell_type": "code",
   "execution_count": 101,
   "metadata": {
    "autoscroll": false,
    "collapsed": false,
    "ein.tags": "worksheet-0",
    "slideshow": {
     "slide_type": "-"
    }
   },
   "outputs": [],
   "source": [
    "sel=\"\"\"\n",
    "SELECT * FROM candidates;\n",
    "\"\"\"\n",
    "c=db.cursor().execute(sel)"
   ]
  },
  {
   "cell_type": "code",
   "execution_count": 102,
   "metadata": {
    "autoscroll": false,
    "collapsed": false,
    "ein.tags": "worksheet-0",
    "slideshow": {
     "slide_type": "-"
    }
   },
   "outputs": [
    {
     "data": {
      "text/plain": [
       "[(16, 'Mike', 'Huckabee', None, 'R'),\n (20, 'Barack', 'Obama', None, 'D'),\n (22, 'Rudolph', 'Giuliani', None, 'R'),\n (24, 'Mike', 'Gravel', None, 'D'),\n (26, 'John', 'Edwards', None, 'D'),\n (29, 'Bill', 'Richardson', None, 'D'),\n (30, 'Duncan', 'Hunter', None, 'R'),\n (31, 'Dennis', 'Kucinich', None, 'D'),\n (32, 'Ron', 'Paul', None, 'R'),\n (33, 'Joseph', 'Biden', None, 'D'),\n (34, 'Hillary', 'Clinton', 'R.', 'D'),\n (35, 'Mitt', 'Romney', None, 'R'),\n (36, 'Samuel', 'Brownback', None, 'R'),\n (37, 'John', 'McCain', None, 'R'),\n (38, 'Tom', 'Tancredo', None, 'R'),\n (39, 'Christopher', 'Dodd', 'J.', 'D'),\n (41, 'Fred', 'Thompson', 'D.', 'R')]"
      ]
     },
     "execution_count": 102,
     "metadata": {},
     "output_type": "execute_result"
    }
   ],
   "source": [
    "c.fetchall()"
   ]
  },
  {
   "cell_type": "code",
   "execution_count": 26,
   "metadata": {
    "autoscroll": false,
    "collapsed": false,
    "ein.tags": "worksheet-0",
    "slideshow": {
     "slide_type": "-"
    }
   },
   "outputs": [],
   "source": [
    "def make_query(sel):\n",
    "    c=db.cursor().execute(sel)\n",
    "    return c.fetchall()"
   ]
  },
  {
   "cell_type": "code",
   "execution_count": 27,
   "metadata": {
    "autoscroll": false,
    "collapsed": false,
    "ein.tags": "worksheet-0",
    "slideshow": {
     "slide_type": "-"
    }
   },
   "outputs": [
    {
     "data": {
      "text/plain": [
       "[(16, 'Mike', 'Huckabee', None, 'R'),\n (20, 'Barack', 'Obama', None, 'D'),\n (22, 'Rudolph', 'Giuliani', None, 'R'),\n (24, 'Mike', 'Gravel', None, 'D'),\n (26, 'John', 'Edwards', None, 'D'),\n (29, 'Bill', 'Richardson', None, 'D'),\n (30, 'Duncan', 'Hunter', None, 'R'),\n (31, 'Dennis', 'Kucinich', None, 'D'),\n (32, 'Ron', 'Paul', None, 'R'),\n (33, 'Joseph', 'Biden', None, 'D'),\n (34, 'Hillary', 'Clinton', 'R.', 'D'),\n (35, 'Mitt', 'Romney', None, 'R'),\n (36, 'Samuel', 'Brownback', None, 'R'),\n (37, 'John', 'McCain', None, 'R'),\n (38, 'Tom', 'Tancredo', None, 'R'),\n (39, 'Christopher', 'Dodd', 'J.', 'D'),\n (41, 'Fred', 'Thompson', 'D.', 'R')]"
      ]
     },
     "execution_count": 27,
     "metadata": {},
     "output_type": "execute_result"
    }
   ],
   "source": [
    "make_query(\"SELECT * FROM candidates;\")"
   ]
  },
  {
   "cell_type": "markdown",
   "metadata": {
    "ein.tags": "worksheet-0",
    "slideshow": {
     "slide_type": "-"
    }
   },
   "source": [
    "## Data transformation: Single Table Verbs"
   ]
  },
  {
   "cell_type": "markdown",
   "metadata": {
    "ein.tags": "worksheet-0",
    "slideshow": {
     "slide_type": "-"
    }
   },
   "source": [
    "Let us now focus on core data manipulation commands. These are *universal across systems, and by identifying them, we can quickly ask how to do these* when we encounter a new system."
   ]
  },
  {
   "cell_type": "markdown",
   "metadata": {
    "ein.tags": "worksheet-0",
    "slideshow": {
     "slide_type": "-"
    }
   },
   "source": [
    "See https://gist.github.com/TomAugspurger/6e052140eaa5fdb6e8c0/ which has a comparison of r/dplyr and pandas. I stole and modified this table from there:\n",
    "\n",
    "``dplyr`` has a small set of nicely defined verbs, which Hadley Wickham has used to identify core data manipulation commands. Here are listed the closest SQL and Pandas verbs, so we can see the universality of these manipulations.\n",
    "\n",
    "\n",
    "<table>\n",
    "  <tr>\n",
    "    <th><b>VERB</b></th>\n",
    "    <th><b>dplyr</b></th>\n",
    "    <th><b>pandas</b></th>\n",
    "    <th><b>SQL</b></th>\n",
    "  </tr>\n",
    "  <tr>\n",
    "    <td>QUERY/SELECTION</td>\n",
    "    <td>filter() (and slice())</td>\n",
    "    <td>query() (and loc[], iloc[])</td>\n",
    "    <td>SELECT WHERE</td>\n",
    "  </tr>\n",
    "  <tr>\n",
    "    <td>SORT</td>\n",
    "    <td>arrange()</td>\n",
    "    <td>sort()</td>\n",
    "    <td>ORDER BY</td>\n",
    "  </tr>\n",
    "  <tr>\n",
    "    <td>SELECT-COLUMNS/PROJECTION</td>\n",
    "    <td>select() (and rename())</td>\n",
    "    <td>[](__getitem__) (and rename())</td>\n",
    "    <td>SELECT COLUMN</td>\n",
    "  </tr>\n",
    "  <tr>\n",
    "    <td>SELECT-DISTINCT</td>\n",
    "    <td>distinct()</td>\n",
    "    <td>unique(),drop_duplicates()</td>\n",
    "    <td>SELECT DISTINCT COLUMN</td>\n",
    "  </tr>\n",
    "  <tr>\n",
    "    <td>ASSIGN</td>\n",
    "    <td>mutate() (and transmute())</td>\n",
    "    <td>assign</td>\n",
    "    <td>ALTER/UPDATE</td>\n",
    "  </tr>\n",
    "  <tr>\n",
    "    <td>AGGREGATE</td>\n",
    "    <td>summarise()</td>\n",
    "    <td>describe(), mean(), max()</td>\n",
    "    <td>None, AVG(),MAX()</td>\n",
    "  </tr>\n",
    "  <tr>\n",
    "    <td>SAMPLE</td>\n",
    "    <td>sample_n() and sample_frac()</td>\n",
    "    <td>sample()</td>\n",
    "    <td>implementation dep, use RAND()</td>\n",
    "  </tr>\n",
    "  <tr>\n",
    "    <td>GROUP-AGG</td>\n",
    "    <td>group_by/summarize</td>\n",
    "    <td>groupby/agg, count, mean</td>\n",
    "    <td>GROUP BY</td>\n",
    "  </tr>\n",
    "  <tr>\n",
    "    <td>DELETE</td>\n",
    "    <td>?</td>\n",
    "    <td>drop/masking</td>\n",
    "    <td>DELETE/WHERE</td>\n",
    "  </tr>\n",
    "</table>\n"
   ]
  },
  {
   "cell_type": "markdown",
   "metadata": {
    "ein.tags": "worksheet-0",
    "slideshow": {
     "slide_type": "-"
    }
   },
   "source": [
    "We'll tackle these one by one in Pandas, since these are data manipulations you will do all the time."
   ]
  },
  {
   "cell_type": "markdown",
   "metadata": {
    "ein.tags": "worksheet-0",
    "slideshow": {
     "slide_type": "-"
    }
   },
   "source": [
    "### QUERY"
   ]
  },
  {
   "cell_type": "code",
   "execution_count": 28,
   "metadata": {
    "autoscroll": false,
    "collapsed": false,
    "ein.tags": "worksheet-0",
    "slideshow": {
     "slide_type": "-"
    }
   },
   "outputs": [
    {
     "data": {
      "text/plain": [
       "0      False\n1       True\n2       True\n3       True\n4       True\n5      False\n6      False\n7       True\n8      False\n9      False\n10     False\n11     False\n12      True\n13     False\n14      True\n15     False\n16     False\n17      True\n18      True\n19     False\n20     False\n21     False\n22      True\n23     False\n24     False\n25      True\n26      True\n27      True\n28     False\n29      True\n       ...  \n145     True\n146     True\n147     True\n148     True\n149     True\n150    False\n151     True\n152     True\n153     True\n154     True\n155    False\n156    False\n157     True\n158     True\n159    False\n160     True\n161     True\n162     True\n163    False\n164    False\n165     True\n166     True\n167     True\n168    False\n169    False\n170     True\n171    False\n172     True\n173    False\n174    False\nName: amount, Length: 175, dtype: bool"
      ]
     },
     "execution_count": 28,
     "metadata": {},
     "output_type": "execute_result"
    }
   ],
   "source": [
    "# boolean\n",
    "dfcwci.amount < 400"
   ]
  },
  {
   "cell_type": "markdown",
   "metadata": {
    "ein.tags": "worksheet-0",
    "slideshow": {
     "slide_type": "-"
    }
   },
   "source": [
    "This gives us Trues and Falses. Such a series is called a **mask**.  A mask  is the basis of filtering. We can do:"
   ]
  },
  {
   "cell_type": "code",
   "execution_count": 29,
   "metadata": {
    "autoscroll": false,
    "collapsed": false,
    "ein.tags": "worksheet-0",
    "slideshow": {
     "slide_type": "-"
    }
   },
   "outputs": [
    {
     "data": {
      "text/plain": [
       "  last_name first_name middle_name                      street_1 street_2         city state    zip  amount        date  candidate_id\n1    Ahrens        Don         NaN          4034 Rennellwood Way      NaN   Pleasanton    CA  94566   250.0  2007-05-16            16\n2    Ahrens        Don         NaN          4034 Rennellwood Way      NaN   Pleasanton    CA  94566    50.0  2007-06-18            16\n3    Ahrens        Don         NaN          4034 Rennellwood Way      NaN   Pleasanton    CA  94566   100.0  2007-06-21            16\n4      Akin    Charles         NaN        10187 Sugar Creek Road      NaN  Bentonville    AR  72712   100.0  2007-06-16            16\n7  Aldridge    Brittni         NaN  808 Capitol Square Place, SW      NaN   Washington    DC  20024   250.0  2007-06-06            16"
      ]
     },
     "execution_count": 29,
     "metadata": {},
     "output_type": "execute_result"
    }
   ],
   "source": [
    "dfcwci[dfcwci.amount < 400].head()"
   ]
  },
  {
   "cell_type": "markdown",
   "metadata": {
    "ein.tags": "worksheet-0",
    "slideshow": {
     "slide_type": "-"
    }
   },
   "source": [
    "Notice that the dataframe has been filtered down to only include those contributions with amount < 400. The rows with `False` in the mask have been eliminated, and those with `True` in the mask have been kept."
   ]
  },
  {
   "cell_type": "code",
   "execution_count": 30,
   "metadata": {
    "autoscroll": false,
    "collapsed": false,
    "ein.tags": "worksheet-0",
    "slideshow": {
     "slide_type": "-"
    }
   },
   "outputs": [
    {
     "data": {
      "text/plain": [
       "(132, 0.75428571428571434)"
      ]
     },
     "execution_count": 30,
     "metadata": {},
     "output_type": "execute_result"
    }
   ],
   "source": [
    "# true count, true proportion\n",
    "np.sum(dfcwci.amount < 400), np.mean(dfcwci.amount < 400)"
   ]
  },
  {
   "cell_type": "markdown",
   "metadata": {
    "ein.tags": "worksheet-0",
    "slideshow": {
     "slide_type": "-"
    }
   },
   "source": [
    "Why did that work? The booleans are coerced to integers as below:"
   ]
  },
  {
   "cell_type": "code",
   "execution_count": 31,
   "metadata": {
    "autoscroll": false,
    "collapsed": false,
    "ein.tags": "worksheet-0",
    "slideshow": {
     "slide_type": "-"
    }
   },
   "outputs": [
    {
     "data": {
      "text/plain": [
       "(1, 0)"
      ]
     },
     "execution_count": 31,
     "metadata": {},
     "output_type": "execute_result"
    }
   ],
   "source": [
    "1*True, 1*False"
   ]
  },
  {
   "cell_type": "markdown",
   "metadata": {
    "ein.tags": "worksheet-0",
    "slideshow": {
     "slide_type": "-"
    }
   },
   "source": [
    "Or directly, in Pandas, which works since the comparison is a pandas Series."
   ]
  },
  {
   "cell_type": "code",
   "execution_count": 32,
   "metadata": {
    "autoscroll": false,
    "collapsed": false,
    "ein.tags": "worksheet-0",
    "slideshow": {
     "slide_type": "-"
    }
   },
   "outputs": [
    {
     "data": {
      "text/plain": [
       "0.75428571428571434"
      ]
     },
     "execution_count": 32,
     "metadata": {},
     "output_type": "execute_result"
    }
   ],
   "source": [
    "(dfcwci.amount < 400).mean()"
   ]
  },
  {
   "cell_type": "markdown",
   "metadata": {
    "ein.tags": "worksheet-0",
    "slideshow": {
     "slide_type": "-"
    }
   },
   "source": [
    "You can combine queries. Note that we use Python's `&` operator instead of `and`. This is because we are \"Boolean AND\"ing masks to get a series of True's And Falses."
   ]
  },
  {
   "cell_type": "code",
   "execution_count": 33,
   "metadata": {
    "autoscroll": false,
    "collapsed": false,
    "ein.tags": "worksheet-0",
    "slideshow": {
     "slide_type": "-"
    }
   },
   "outputs": [
    {
     "data": {
      "text/plain": [
       "     last_name first_name middle_name                     street_1 street_2             city state        zip  amount        date  candidate_id\n27    Buckheit      Bruce         NaN                8904 KAREN DR      NaN          FAIRFAX    VA  220312731  100.00  2007-09-19            20\n77   Ranganath      Anoop         NaN           2507 Willard Drive      NaN  Charlottesville    VA      22903 -100.00  2008-04-21            32\n88   Perreault     Louise         NaN    503 Brockridge Hunt Drive      NaN          Hampton    VA      23666  -34.08  2008-04-21            32\n145    ABDELLA     THOMAS          M.  4231 MONUMENT WALL WAY #340      NaN          FAIRFAX    VA  220308440   50.00  2007-09-30            35"
      ]
     },
     "execution_count": 33,
     "metadata": {},
     "output_type": "execute_result"
    }
   ],
   "source": [
    "dfcwci[(dfcwci.state=='VA') & (dfcwci.amount < 400)]"
   ]
  },
  {
   "cell_type": "markdown",
   "metadata": {
    "ein.tags": "worksheet-0",
    "slideshow": {
     "slide_type": "-"
    }
   },
   "source": [
    "Here is another way to write the query:"
   ]
  },
  {
   "cell_type": "code",
   "execution_count": 34,
   "metadata": {
    "autoscroll": false,
    "collapsed": false,
    "ein.tags": "worksheet-0",
    "slideshow": {
     "slide_type": "-"
    }
   },
   "outputs": [
    {
     "data": {
      "text/plain": [
       "     last_name first_name middle_name                     street_1 street_2             city state        zip  amount        date  candidate_id\n27    Buckheit      Bruce         NaN                8904 KAREN DR      NaN          FAIRFAX    VA  220312731  100.00  2007-09-19            20\n77   Ranganath      Anoop         NaN           2507 Willard Drive      NaN  Charlottesville    VA      22903 -100.00  2008-04-21            32\n88   Perreault     Louise         NaN    503 Brockridge Hunt Drive      NaN          Hampton    VA      23666  -34.08  2008-04-21            32\n145    ABDELLA     THOMAS          M.  4231 MONUMENT WALL WAY #340      NaN          FAIRFAX    VA  220308440   50.00  2007-09-30            35"
      ]
     },
     "execution_count": 34,
     "metadata": {},
     "output_type": "execute_result"
    }
   ],
   "source": [
    "# Throwing the query to SQL as a string\n",
    "dfcwci.query(\"state=='VA' & amount < 400\")"
   ]
  },
  {
   "cell_type": "markdown",
   "metadata": {
    "ein.tags": "worksheet-0",
    "slideshow": {
     "slide_type": "-"
    }
   },
   "source": [
    "For cleaning, we might want to use this querying ability"
   ]
  },
  {
   "cell_type": "code",
   "execution_count": 35,
   "metadata": {
    "autoscroll": false,
    "collapsed": false,
    "ein.tags": "worksheet-0",
    "slideshow": {
     "slide_type": "-"
    }
   },
   "outputs": [
    {
     "data": {
      "text/plain": [
       "    last_name first_name middle_name       street_1 street_2        city state   zip  amount        date  candidate_id\n125    BOURNE     TRAVIS         NaN  LAGE KAART 77      NaN  BRASSCHATT   NaN  2930  -500.0  2008-11-20            35"
      ]
     },
     "execution_count": 35,
     "metadata": {},
     "output_type": "execute_result"
    }
   ],
   "source": [
    "dfcwci[dfcwci.state.isnull()]"
   ]
  },
  {
   "cell_type": "markdown",
   "metadata": {
    "ein.tags": "worksheet-0",
    "slideshow": {
     "slide_type": "-"
    }
   },
   "source": [
    "Or the opposite, which is probably more useful in making the selection:"
   ]
  },
  {
   "cell_type": "code",
   "execution_count": 36,
   "metadata": {
    "autoscroll": false,
    "collapsed": false,
    "ein.tags": "worksheet-0",
    "slideshow": {
     "slide_type": "-"
    }
   },
   "outputs": [
    {
     "data": {
      "text/plain": [
       "  last_name first_name middle_name                street_1 street_2         city state    zip  amount        date  candidate_id\n0      Agee     Steven         NaN  549 Laurel Branch Road      NaN        Floyd    VA  24091   500.0  2007-06-30            16\n1    Ahrens        Don         NaN    4034 Rennellwood Way      NaN   Pleasanton    CA  94566   250.0  2007-05-16            16\n2    Ahrens        Don         NaN    4034 Rennellwood Way      NaN   Pleasanton    CA  94566    50.0  2007-06-18            16\n3    Ahrens        Don         NaN    4034 Rennellwood Way      NaN   Pleasanton    CA  94566   100.0  2007-06-21            16\n4      Akin    Charles         NaN  10187 Sugar Creek Road      NaN  Bentonville    AR  72712   100.0  2007-06-16            16"
      ]
     },
     "execution_count": 36,
     "metadata": {},
     "output_type": "execute_result"
    }
   ],
   "source": [
    "dfcwci[dfcwci.state.notnull()].head()"
   ]
  },
  {
   "cell_type": "markdown",
   "metadata": {
    "ein.tags": "worksheet-0",
    "slideshow": {
     "slide_type": "-"
    }
   },
   "source": [
    "For categoricals you can use `isin`. You can use Boolean not on the mask to implement not in."
   ]
  },
  {
   "cell_type": "code",
   "execution_count": 37,
   "metadata": {
    "autoscroll": false,
    "collapsed": false,
    "ein.tags": "worksheet-0",
    "slideshow": {
     "slide_type": "-"
    }
   },
   "outputs": [
    {
     "data": {
      "text/plain": [
       "     last_name first_name middle_name                      street_1 street_2             city state        zip  amount        date  candidate_id\n0         Agee     Steven         NaN        549 Laurel Branch Road      NaN            Floyd    VA      24091  500.00  2007-06-30            16\n27    Buckheit      Bruce         NaN                 8904 KAREN DR      NaN          FAIRFAX    VA  220312731  100.00  2007-09-19            20\n62       BURKE    SUZANNE          M.                 3401 EVANSTON      NaN          SEATTLE    WA  981038677 -700.00  2008-03-05            22\n77   Ranganath      Anoop         NaN            2507 Willard Drive      NaN  Charlottesville    VA      22903 -100.00  2008-04-21            32\n88   Perreault     Louise         NaN     503 Brockridge Hunt Drive      NaN          Hampton    VA      23666  -34.08  2008-04-21            32\n100   Aaronson    Rebecca         NaN  2000 Village Green Dr Apt 12      NaN       Mill Creek    WA  980125787  100.00  2008-02-08            34\n106   Aaronson    Rebecca         NaN  2000 Village Green Dr Apt 12      NaN       Mill Creek    WA  980125787  100.00  2008-02-14            34\n145    ABDELLA     THOMAS          M.   4231 MONUMENT WALL WAY #340      NaN          FAIRFAX    VA  220308440   50.00  2007-09-30            35"
      ]
     },
     "execution_count": 37,
     "metadata": {},
     "output_type": "execute_result"
    }
   ],
   "source": [
    "dfcwci[dfcwci.state.isin(['VA','WA'])].head(10)"
   ]
  },
  {
   "cell_type": "markdown",
   "metadata": {
    "ein.tags": "worksheet-0",
    "slideshow": {
     "slide_type": "-"
    }
   },
   "source": [
    "And you can chain queries thus."
   ]
  },
  {
   "cell_type": "code",
   "execution_count": 38,
   "metadata": {
    "autoscroll": false,
    "collapsed": false,
    "ein.tags": "worksheet-0",
    "scrolled": true,
    "slideshow": {
     "slide_type": "-"
    }
   },
   "outputs": [
    {
     "data": {
      "text/plain": [
       "    last_name first_name middle_name                    street_1 street_2           city state        zip  amount        date  candidate_id\n2      Ahrens        Don         NaN        4034 Rennellwood Way      NaN     Pleasanton    CA      94566    50.0  2007-06-18            16\n18      Ardle    William         NaN           412 Dakota Avenue      NaN    Springfield    OH      45504    50.0  2007-06-28            16\n25    Buckler      Steve         NaN             24351 Armada Dr      NaN     Dana Point    CA  926291306    50.0  2007-07-30            20\n26    Buckler      Steve         NaN             24351 Armada Dr      NaN     Dana Point    CA  926291306    25.0  2007-08-16            20\n34       Buck    Barbara         NaN            1780 NE 138th St      NaN    North Miami    FL  331811316    50.0  2007-09-13            20\n35       Buck    Barbara         NaN            1780 NE 138th St      NaN    North Miami    FL  331811316    50.0  2007-07-19            20\n38   Buchanek  Elizabeth         NaN            7917 Kentbury Dr      NaN       Bethesda    MD  208144615    50.0  2007-09-30            20\n49   Harrison       Ryan         NaN                 2247 3rd St      NaN       La Verne    CA  917504918    25.0  2007-07-26            20\n101    Aarons     Elaine         NaN  481 Buck Island Rd Apt 17A  APT 17A  West Yarmouth    MA   26733300    25.0  2008-02-26            34\n104     Aaron    Shirley         NaN              101 Cherry Ave      NaN         Havana    FL  323331311    50.0  2008-02-29            34"
      ]
     },
     "execution_count": 38,
     "metadata": {},
     "output_type": "execute_result"
    }
   ],
   "source": [
    "dfcwci.query(\"10 <= amount <= 50\").head(10)"
   ]
  },
  {
   "cell_type": "markdown",
   "metadata": {
    "ein.tags": "worksheet-0",
    "slideshow": {
     "slide_type": "-"
    }
   },
   "source": [
    "#### In Database land"
   ]
  },
  {
   "cell_type": "code",
   "execution_count": 39,
   "metadata": {
    "autoscroll": false,
    "collapsed": false,
    "ein.tags": "worksheet-0",
    "slideshow": {
     "slide_type": "-"
    }
   },
   "outputs": [
    {
     "data": {
      "text/plain": [
       "['id',\n 'last_name',\n 'first_name',\n 'middle_name',\n 'street_1',\n 'street_2',\n 'city',\n 'state',\n 'zip',\n 'amount',\n 'date',\n 'candidate_id']"
      ]
     },
     "execution_count": 39,
     "metadata": {},
     "output_type": "execute_result"
    }
   ],
   "source": [
    "cont_cols = [e[1] for e in make_query(\"PRAGMA table_info(contributors);\")]\n",
    "cont_cols"
   ]
  },
  {
   "cell_type": "code",
   "execution_count": 40,
   "metadata": {
    "autoscroll": false,
    "collapsed": false,
    "ein.tags": "worksheet-0",
    "slideshow": {
     "slide_type": "-"
    }
   },
   "outputs": [],
   "source": [
    "def make_frame(list_of_tuples, legend=cont_cols):\n",
    "    framelist=[]\n",
    "    for i, cname in enumerate(legend):\n",
    "        framelist.append((cname,[e[i] for e in list_of_tuples]))\n",
    "    return pd.DataFrame.from_items(framelist)"
   ]
  },
  {
   "cell_type": "code",
   "execution_count": 41,
   "metadata": {
    "autoscroll": false,
    "collapsed": false,
    "ein.tags": "worksheet-0",
    "slideshow": {
     "slide_type": "-"
    }
   },
   "outputs": [
    {
     "name": "stdout",
     "output_type": "stream",
     "text": [
      "[(28, 'Buckheit', 'Bruce', None, '8904 KAREN DR', None, 'FAIRFAX', 'VA', '220312731', 100, '2007-09-19', 20), (78, 'Ranganath', 'Anoop', None, '2507 Willard Drive', None, 'Charlottesville', 'VA', '22903', -100, '2008-04-21', 32), (89, 'Perreault', 'Louise', None, '503 Brockridge Hunt Drive', None, 'Hampton', 'VA', '23666', -34.08, '2008-04-21', 32), (146, 'ABDELLA', 'THOMAS', 'M.', '4231 MONUMENT WALL WAY #340', None, 'FAIRFAX', 'VA', '220308440', 50, '2007-09-30', 35)]\n"
     ]
    },
    {
     "data": {
      "text/plain": [
       "    id  last_name first_name middle_name                     street_1 street_2             city state        zip  amount        date  candidate_id\n0   28   Buckheit      Bruce        None                8904 KAREN DR     None          FAIRFAX    VA  220312731  100.00  2007-09-19            20\n1   78  Ranganath      Anoop        None           2507 Willard Drive     None  Charlottesville    VA      22903 -100.00  2008-04-21            32\n2   89  Perreault     Louise        None    503 Brockridge Hunt Drive     None          Hampton    VA      23666  -34.08  2008-04-21            32\n3  146    ABDELLA     THOMAS          M.  4231 MONUMENT WALL WAY #340     None          FAIRFAX    VA  220308440   50.00  2007-09-30            35"
      ]
     },
     "execution_count": 41,
     "metadata": {},
     "output_type": "execute_result"
    }
   ],
   "source": [
    "out=make_query(\"SELECT * FROM contributors WHERE state='VA' AND amount < 400;\")\n",
    "print(out)\n",
    "make_frame(out)"
   ]
  },
  {
   "cell_type": "markdown",
   "metadata": {
    "ein.tags": "worksheet-0",
    "slideshow": {
     "slide_type": "-"
    }
   },
   "source": [
    "### SORT"
   ]
  },
  {
   "cell_type": "code",
   "execution_count": 42,
   "metadata": {
    "autoscroll": false,
    "collapsed": false,
    "ein.tags": "worksheet-0",
    "slideshow": {
     "slide_type": "-"
    }
   },
   "outputs": [
    {
     "data": {
      "text/plain": [
       "   last_name   first_name middle_name                      street_1 street_2                city state        zip  amount        date  candidate_id\n90     Kazor  Christopher           M           707 Spindletree ave      NaN          Naperville    IL      60565 -2592.0  2008-04-21            32\n72     BRUNO         JOHN         NaN  10136 WINDERMERE CHASE BLVD.      NaN               GOTHA    FL  347344707 -2300.0  2008-03-06            22\n64     BURKE       DONALD          J.                     12 LOMPOC      NaN  RANCHO SANTA MARGA    CA  926881817 -2300.0  2008-03-11            22\n73     BRUNO        IRENE         NaN  10136 WINDERMERE CHASE BLVD.      NaN               GOTHA    FL  347344707 -2300.0  2008-03-06            22\n74     BROWN      TIMOTHY          J.           26826 MARLOWE COURT      NaN     STEVENSON RANCH    CA  913811020 -2300.0  2008-03-06            22\n58    BURTON        GLENN          M.         4404 CHARLESTON COURT      NaN               TAMPA    FL  336092620 -2300.0  2008-03-05            22\n57    BURTON       STEVEN          G.         9938 DEER CREEK DRIVE      NaN               TAMPA    FL      33647 -2300.0  2008-03-05            22\n84   Uihlein      Richard         NaN            1396 N Waukegan Rd      NaN         Lake Forest    IL  600451147 -2300.0  2008-04-21            32\n56    BURTON        SUSAN         NaN         9338 DEER CREEK DRIVE      NaN               TAMPA    FL  336472286 -2300.0  2008-03-05            22\n55      BUSH         ERIC         NaN                P.O. BOX 61046      NaN              DENVER    CO  802061046 -2300.0  2008-03-06            22"
      ]
     },
     "execution_count": 42,
     "metadata": {},
     "output_type": "execute_result"
    }
   ],
   "source": [
    "dfcwci.sort_values(by=\"amount\").head(10)"
   ]
  },
  {
   "cell_type": "code",
   "execution_count": 43,
   "metadata": {
    "autoscroll": false,
    "collapsed": false,
    "ein.tags": "worksheet-0",
    "slideshow": {
     "slide_type": "-"
    }
   },
   "outputs": [
    {
     "data": {
      "text/plain": [
       "   id last_name   first_name middle_name                   street_1 street_2                city state        zip  amount        date  candidate_id\n0  91     Kazor  Christopher           M        707 Spindletree ave     None          Naperville    IL      60565 -2592.0  2008-04-21            32\n1  30    Buckel        Linda        None              PO Box 683130     None           Park City    UT  840683130 -2300.0  2007-08-14            20\n2  52  BYINGTON     MARGARET          E.  2633 MIDDLEBORO LANE N.E.     None        GRAND RAPIDS    MI  495061254 -2300.0  2008-03-03            22\n3  53     BYERS          BOB          A.       13170 TELFAIR AVENUE     None              SYLMAR    CA  913423573 -2300.0  2008-03-07            22\n4  55      BUSH      KRYSTIE        None             P.O. BOX 61046     None              DENVER    CO  802061046 -2300.0  2008-03-06            22\n5  56      BUSH         ERIC        None             P.O. BOX 61046     None              DENVER    CO  802061046 -2300.0  2008-03-06            22\n6  57    BURTON        SUSAN        None      9338 DEER CREEK DRIVE     None               TAMPA    FL  336472286 -2300.0  2008-03-05            22\n7  58    BURTON       STEVEN          G.      9938 DEER CREEK DRIVE     None               TAMPA    FL      33647 -2300.0  2008-03-05            22\n8  59    BURTON        GLENN          M.      4404 CHARLESTON COURT     None               TAMPA    FL  336092620 -2300.0  2008-03-05            22\n9  65     BURKE       DONALD          J.                  12 LOMPOC     None  RANCHO SANTA MARGA    CA  926881817 -2300.0  2008-03-11            22"
      ]
     },
     "execution_count": 43,
     "metadata": {},
     "output_type": "execute_result"
    }
   ],
   "source": [
    "out=make_query(\"SELECT * FROM contributors ORDER BY amount;\")\n",
    "make_frame(out).head(10)"
   ]
  },
  {
   "cell_type": "code",
   "execution_count": 44,
   "metadata": {
    "autoscroll": false,
    "collapsed": false,
    "ein.tags": "worksheet-0",
    "scrolled": false,
    "slideshow": {
     "slide_type": "-"
    }
   },
   "outputs": [
    {
     "data": {
      "text/plain": [
       "      last_name   first_name middle_name                      street_1          street_2                city state        zip   amount        date  candidate_id\n29       Buckel        Linda         NaN                 PO Box 683130               NaN           Park City    UT  840683130 -2300.00  2007-08-14            20\n40     Buchanan         John         NaN               2025 NW 29th Rd               NaN          Boca Raton    FL  334316303  -500.00  2007-09-24            20\n43     Buchanan         John         NaN               2025 NW 29th Rd               NaN          Boca Raton    FL  334316303  -700.00  2007-08-28            20\n50        BYNUM      HERBERT         NaN            332 SUNNYSIDE ROAD               NaN               TAMPA    FL  336177249  -500.00  2008-03-10            22\n51     BYINGTON     MARGARET          E.     2633 MIDDLEBORO LANE N.E.               NaN        GRAND RAPIDS    MI  495061254 -2300.00  2008-03-03            22\n52        BYERS          BOB          A.          13170 TELFAIR AVENUE               NaN              SYLMAR    CA  913423573 -2300.00  2008-03-07            22\n53        BYERS       AUDREY         NaN             2658 LADBROOK WAY               NaN       THOUSAND OAKS    CA  913615073  -200.00  2008-03-07            22\n54         BUSH      KRYSTIE         NaN                P.O. BOX 61046               NaN              DENVER    CO  802061046 -2300.00  2008-03-06            22\n55         BUSH         ERIC         NaN                P.O. BOX 61046               NaN              DENVER    CO  802061046 -2300.00  2008-03-06            22\n56       BURTON        SUSAN         NaN         9338 DEER CREEK DRIVE               NaN               TAMPA    FL  336472286 -2300.00  2008-03-05            22\n57       BURTON       STEVEN          G.         9938 DEER CREEK DRIVE               NaN               TAMPA    FL      33647 -2300.00  2008-03-05            22\n58       BURTON        GLENN          M.         4404 CHARLESTON COURT               NaN               TAMPA    FL  336092620 -2300.00  2008-03-05            22\n59    BURKHARDT        CRAIG          S.          910 15TH STREET N.W.               NaN          WASHINGTON    DC  200052503  -500.00  2008-03-07            22\n60    BURKHARDT        CRAIG          S.          910 15TH STREET N.W.               NaN          WASHINGTON    DC  200052503 -1000.00  2008-03-07            22\n61    BURKHARDT      BARBARA         NaN          910 15TH STREET N.W.               NaN          WASHINGTON    DC  200052503  -500.00  2008-03-07            22\n62        BURKE      SUZANNE          M.                 3401 EVANSTON               NaN             SEATTLE    WA  981038677  -700.00  2008-03-05            22\n63        BURKE         GAIL         NaN            165 E. 32ND STREET      APARTMENT 9E            NEW YORK    NY  100166014 -2000.00  2008-03-05            22\n64        BURKE       DONALD          J.                     12 LOMPOC               NaN  RANCHO SANTA MARGA    CA  926881817 -2300.00  2008-03-11            22\n65      BURGERT       RONALD          L.           5723 PLUMTREE DRIVE               NaN              DALLAS    TX  752524926 -1000.00  2008-03-05            22\n66         BULL       BARTLE          B.            439 E. 51ST STREET               NaN            NEW YORK    NY  100226473  -800.00  2008-03-10            22\n67         BULL       BARTLE          B.            439 E. 51ST STREET               NaN            NEW YORK    NY  100226473 -1000.00  2008-03-10            22\n68     BUKOWSKI       DANIEL          J.          702 S. WRIGHT STREET               NaN          NAPERVILLE    IL  605406736  -100.00  2008-03-10            22\n69      BUISSON     MARGARET          A.               P.O. BOX 197029               NaN          LOUISVILLE    KY  402597029  -200.00  2008-03-11            22\n70      BUCKLEY       WALTER          W.             1635 COUNTRY ROAD               NaN           BETHLEHEM    PA  180155718  -100.00  2008-03-05            22\n71      BUCKLEY     MARJORIE          B.             1635 COUNTRY ROAD               NaN           BETHLEHEM    PA  180155718  -100.00  2008-03-05            22\n72        BRUNO         JOHN         NaN  10136 WINDERMERE CHASE BLVD.               NaN               GOTHA    FL  347344707 -2300.00  2008-03-06            22\n73        BRUNO        IRENE         NaN  10136 WINDERMERE CHASE BLVD.               NaN               GOTHA    FL  347344707 -2300.00  2008-03-06            22\n74        BROWN      TIMOTHY          J.           26826 MARLOWE COURT               NaN     STEVENSON RANCH    CA  913811020 -2300.00  2008-03-06            22\n75       Schuff        Bryan         NaN              1700 W Sweden Rd               NaN           Brockport    NY      14420   -25.00  2008-08-22            32\n76        Hobbs        James         NaN               229 Cherry Lane               NaN         White House    TN      37188   -25.00  2008-08-19            32\n77    Ranganath        Anoop         NaN            2507 Willard Drive               NaN     Charlottesville    VA      22903  -100.00  2008-04-21            32\n78      Nystrom      Michael           A           93A Fairmont Street               NaN           Arlington    MA       2474  -503.00  2008-04-21            32\n79         Muse         Nina          Jo           2915 Toro Canyon Rd               NaN              Austin    TX      78746   -50.00  2008-04-21            32\n80      Waddell        James          L.             1823 Spel Lane SW               NaN           Rochester    MN      55902   -28.00  2008-04-21            32\n81       Brucks      William          C.                    PO Box 391               NaN      Corona del Mar    CA      92625  -150.00  2008-04-21            32\n82        Kuehn        David         NaN        14502 West 93rd Street               NaN              Lenexa    KS      66215  -330.00  2008-04-21            32\n83      Verster     Jeanette          M.               7220 SW 61st St               NaN               Miami    FL  331431807 -1000.00  2008-04-21            32\n84      Uihlein      Richard         NaN            1396 N Waukegan Rd               NaN         Lake Forest    IL  600451147 -2300.00  2008-04-21            32\n85   Eskenberry       Robert           P                10960 Gray Cir               NaN         Westminster    CO      80020  -223.00  2008-04-21            32\n86    Froehling         Alan          L.               302 Broadway St               NaN        Mount Vernon    IL  628645116  -844.80  2008-04-21            32\n87       Duryea       Marcia          A.               123 Bayview Ave               NaN          Amityville    NY      11701  -299.50  2008-04-21            32\n88    Perreault       Louise         NaN     503 Brockridge Hunt Drive               NaN             Hampton    VA      23666   -34.08  2008-04-21            32\n89    Rozenfeld        Timur         NaN               57 Herbert Road               NaN        Robbinsville    NJ       8691  -777.95  2008-04-21            32\n90        Kazor  Christopher           M           707 Spindletree ave               NaN          Naperville    IL      60565 -2592.00  2008-04-21            32\n91       Lehner       Thomas          S.                2701 Star Lane               NaN           Wadsworth    OH      44281  -200.00  2008-04-21            32\n92      Plummer       Joseph         NaN             587 Blake Hill Rd               NaN         New Hampton    NH   32564424   -24.60  2008-04-21            32\n93       Raught       Philip           M                 4714 Plum Way               NaN          Pittsburgh    PA      15201 -1046.00  2008-04-21            32\n94      Ferrara       Judith           D           1508 Waterford Road               NaN             Yardley    PA      19067 -1100.00  2008-04-21            32\n95      Johnson     Cathleen          E.       1003 Justin Ln Apt 2016               NaN              Austin    TX  787572648   -14.76  2008-04-21            32\n96      Sanford      Bradley         NaN               940 Post St #43               NaN       San Francisco    CA      94109   -24.53  2008-04-21            32\n97      Gaarder        Bruce         NaN                   PO Box 4085               NaN   Mountain Home AFB    ID      83648  -261.00  2008-04-21            32\n98         Choe    Hyeokchan         NaN                207 Bridle Way               NaN            Fort Lee    NJ   70246302   -39.50  2008-04-21            32\n99       Jacobs      Richard          G.                14337 Tawya Rd               NaN        Apple Valley    CA  923075545 -1000.00  2008-04-21            32\n110        Reid    Elizabeth         NaN                73 W Patent Rd  OPHIR FARM NORTH       Bedford Hills    NY  105072222  -350.00  2008-08-28            34\n111       Reich       Thomas         NaN                  499 Park Ave               NaN            New York    NY  100221240 -2300.00  2008-08-28            34\n125      BOURNE       TRAVIS         NaN                 LAGE KAART 77               NaN          BRASSCHATT   NaN       2930  -500.00  2008-11-20            35\n126     SECRIST        BRIAN          L.             3 MULE DEER TRAIL               NaN           LITTLETON    CO  801275722 -1000.00  2008-04-07            35\n127  TOLLESTRUP       TRAVIS          W.           16331 WINECREEK RD.               NaN           SAN DIEGO    CA      92127 -1000.00  2008-05-15            35"
      ]
     },
     "execution_count": 44,
     "metadata": {},
     "output_type": "execute_result"
    }
   ],
   "source": [
    "dfcwci[dfcwci.amount < 0]"
   ]
  },
  {
   "cell_type": "code",
   "execution_count": 45,
   "metadata": {
    "autoscroll": false,
    "collapsed": false,
    "ein.tags": "worksheet-0",
    "slideshow": {
     "slide_type": "-"
    }
   },
   "outputs": [
    {
     "data": {
      "text/plain": [
       "      last_name first_name middle_name                 street_1 street_2           city state        zip  amount        date  candidate_id\n30       Buckel      Linda         NaN            PO Box 683130      NaN      Park City    UT  840683130  4600.0  2007-08-14            20\n159       ABATE      MARIA       ELENA  1291 NIGHTINGALE AVENUE      NaN  MIAMI SPRINGS    FL  331663832  2600.0  2008-01-25            37\n15      Anthony       John         NaN    211 Long Island Drive      NaN    Hot Springs    AR      71913  2300.0  2007-06-12            16\n33         Buck     Blaine           M             45 Eaton Ave      NaN         Camden    ME   48431752  2300.0  2007-09-30            20\n28       Buckel      Linda         NaN            PO Box 683130      NaN      Park City    UT  840683130  2300.0  2007-08-14            20\n21        Baker      David         NaN   2550 Adamsbrooke Drive      NaN         Conway    AR      72034  2300.0  2007-04-11            16\n13        Altes       R.D.         NaN          8600 Moody Road      NaN     Fort Smith    AR      72903  2300.0  2007-06-21            16\n135  ABRAMOWITZ       NIRA         NaN          411 HARBOR ROAD      NaN      SOUTHPORT    CT   68901376  2300.0  2007-09-14            35\n5          Akin       Mike         NaN         181 Baywood Lane      NaN     Monticello    AR      71655  1500.0  2007-05-18            16\n174     ABRAHAM      SALEM          A.               P.O. BOX 7      NaN       CANADIAN    TX  790140007  1300.0  2008-01-30            37"
      ]
     },
     "execution_count": 45,
     "metadata": {},
     "output_type": "execute_result"
    }
   ],
   "source": [
    "dfcwci.sort_values(by=\"amount\", ascending=False).head(10)"
   ]
  },
  {
   "cell_type": "code",
   "execution_count": 46,
   "metadata": {
    "autoscroll": false,
    "collapsed": false,
    "ein.tags": "worksheet-0",
    "slideshow": {
     "slide_type": "-"
    }
   },
   "outputs": [
    {
     "data": {
      "text/plain": [
       "    id   last_name first_name middle_name                 street_1 street_2           city state        zip  amount        date  candidate_id\n0   31      Buckel      Linda        None            PO Box 683130     None      Park City    UT  840683130  4600.0  2007-08-14            20\n1  160       ABATE      MARIA       ELENA  1291 NIGHTINGALE AVENUE     None  MIAMI SPRINGS    FL  331663832  2600.0  2008-01-25            37\n2   14       Altes       R.D.        None          8600 Moody Road     None     Fort Smith    AR      72903  2300.0  2007-06-21            16\n3   16     Anthony       John        None    211 Long Island Drive     None    Hot Springs    AR      71913  2300.0  2007-06-12            16\n4   22       Baker      David        None   2550 Adamsbrooke Drive     None         Conway    AR      72034  2300.0  2007-04-11            16\n5   29      Buckel      Linda        None            PO Box 683130     None      Park City    UT  840683130  2300.0  2007-08-14            20\n6   34        Buck     Blaine           M             45 Eaton Ave     None         Camden    ME   48431752  2300.0  2007-09-30            20\n7  136  ABRAMOWITZ       NIRA        None          411 HARBOR ROAD     None      SOUTHPORT    CT   68901376  2300.0  2007-09-14            35\n8    6        Akin       Mike        None         181 Baywood Lane     None     Monticello    AR      71655  1500.0  2007-05-18            16\n9   10       Allen    John D.        None   1052 Cannon Mill Drive     None  North Augusta    SC      29860  1300.0  2007-06-29            16"
      ]
     },
     "execution_count": 46,
     "metadata": {},
     "output_type": "execute_result"
    }
   ],
   "source": [
    "out=make_query(\"SELECT * FROM contributors ORDER BY amount DESC;\")\n",
    "make_frame(out).head(10)"
   ]
  },
  {
   "cell_type": "markdown",
   "metadata": {
    "ein.tags": "worksheet-0",
    "slideshow": {
     "slide_type": "-"
    }
   },
   "source": [
    "### SELECT-COLUMNS"
   ]
  },
  {
   "cell_type": "code",
   "execution_count": 47,
   "metadata": {
    "autoscroll": false,
    "collapsed": false,
    "ein.tags": "worksheet-0",
    "slideshow": {
     "slide_type": "-"
    }
   },
   "outputs": [
    {
     "data": {
      "text/plain": [
       "  first_name  amount\n0     Steven   500.0\n1        Don   250.0\n2        Don    50.0\n3        Don   100.0\n4    Charles   100.0\n5       Mike  1500.0\n6    Rebecca   500.0\n7    Brittni   250.0\n8    John D.  1000.0\n9    John D.  1300.0"
      ]
     },
     "execution_count": 47,
     "metadata": {},
     "output_type": "execute_result"
    }
   ],
   "source": [
    "dfcwci[['first_name', 'amount']].head(10)"
   ]
  },
  {
   "cell_type": "code",
   "execution_count": 48,
   "metadata": {
    "autoscroll": false,
    "collapsed": false,
    "ein.tags": "worksheet-0",
    "slideshow": {
     "slide_type": "-"
    }
   },
   "outputs": [
    {
     "data": {
      "text/plain": [
       "  first_name  amount\n0     Steven   500.0\n1        Don   250.0\n2        Don    50.0\n3        Don   100.0\n4    Charles   100.0\n5       Mike  1500.0\n6    Rebecca   500.0\n7    Brittni   250.0\n8    John D.  1000.0\n9    John D.  1300.0"
      ]
     },
     "execution_count": 48,
     "metadata": {},
     "output_type": "execute_result"
    }
   ],
   "source": [
    "out=make_query(\"SELECT first_name, amount FROM contributors;\")\n",
    "make_frame(out,['first_name', 'amount']).head(10)"
   ]
  },
  {
   "cell_type": "markdown",
   "metadata": {
    "ein.tags": "worksheet-0",
    "slideshow": {
     "slide_type": "-"
    }
   },
   "source": [
    "### SELECT-DISTINCT"
   ]
  },
  {
   "cell_type": "markdown",
   "metadata": {
    "ein.tags": "worksheet-0",
    "slideshow": {
     "slide_type": "-"
    }
   },
   "source": [
    "Selecting a distinct set is useful for cleaning. Here, we might wish to focus on contributors rather than contributions and see how many distinct contributors we have. Of-course we might be wrong, some people have identical names. "
   ]
  },
  {
   "cell_type": "code",
   "execution_count": 49,
   "metadata": {
    "autoscroll": false,
    "collapsed": false,
    "ein.tags": "worksheet-0",
    "slideshow": {
     "slide_type": "-"
    }
   },
   "outputs": [
    {
     "data": {
      "text/plain": [
       "last_name     175\nfirst_name    175\ndtype: int64"
      ]
     },
     "execution_count": 49,
     "metadata": {},
     "output_type": "execute_result"
    }
   ],
   "source": [
    "dfcwci[['last_name','first_name']].count()"
   ]
  },
  {
   "cell_type": "code",
   "execution_count": 50,
   "metadata": {
    "autoscroll": false,
    "collapsed": false,
    "ein.tags": "worksheet-0",
    "slideshow": {
     "slide_type": "-"
    }
   },
   "outputs": [
    {
     "data": {
      "text/plain": [
       "last_name     126\nfirst_name    126\ndtype: int64"
      ]
     },
     "execution_count": 50,
     "metadata": {},
     "output_type": "execute_result"
    }
   ],
   "source": [
    "dfcwci[['last_name','first_name']].drop_duplicates().count()"
   ]
  },
  {
   "cell_type": "code",
   "execution_count": 51,
   "metadata": {
    "autoscroll": false,
    "collapsed": false,
    "ein.tags": "worksheet-0",
    "slideshow": {
     "slide_type": "-"
    }
   },
   "outputs": [
    {
     "data": {
      "text/plain": [
       "   last_name first_name\n0       Agee     Steven\n1     Ahrens        Don\n4       Akin    Charles\n5       Akin       Mike\n6       Akin    Rebecca\n7   Aldridge    Brittni\n8      Allen    John D.\n10   Allison    John W.\n11   Allison    Rebecca\n13     Altes       R.D."
      ]
     },
     "execution_count": 51,
     "metadata": {},
     "output_type": "execute_result"
    }
   ],
   "source": [
    "dfcwci[['last_name','first_name']].drop_duplicates().head(10)"
   ]
  },
  {
   "cell_type": "code",
   "execution_count": 52,
   "metadata": {
    "autoscroll": false,
    "collapsed": false,
    "ein.tags": "worksheet-0",
    "slideshow": {
     "slide_type": "-"
    }
   },
   "outputs": [
    {
     "data": {
      "text/plain": [
       "  last_name first_name\n0      Agee     Steven\n1    Ahrens        Don\n2      Akin    Charles\n3      Akin       Mike\n4      Akin    Rebecca\n5  Aldridge    Brittni\n6     Allen    John D.\n7   Allison    John W.\n8   Allison    Rebecca\n9     Altes       R.D."
      ]
     },
     "execution_count": 52,
     "metadata": {},
     "output_type": "execute_result"
    }
   ],
   "source": [
    "out=make_query(\"SELECT DISTINCT last_name, first_name FROM contributors;\")\n",
    "make_frame(out,['last_name', 'first_name']).head(10)"
   ]
  },
  {
   "cell_type": "markdown",
   "metadata": {
    "ein.tags": "worksheet-0",
    "slideshow": {
     "slide_type": "-"
    }
   },
   "source": [
    "### ASSIGN\n",
    "\n",
    "Assignment to a new column is easy."
   ]
  },
  {
   "cell_type": "code",
   "execution_count": 53,
   "metadata": {
    "autoscroll": false,
    "collapsed": false,
    "ein.tags": "worksheet-0",
    "slideshow": {
     "slide_type": "-"
    }
   },
   "outputs": [
    {
     "data": {
      "text/plain": [
       "  last_name first_name middle_name                      street_1 street_2           city state    zip  amount        date  candidate_id               name\n0      Agee     Steven         NaN        549 Laurel Branch Road      NaN          Floyd    VA  24091   500.0  2007-06-30            16       Agee, Steven\n1    Ahrens        Don         NaN          4034 Rennellwood Way      NaN     Pleasanton    CA  94566   250.0  2007-05-16            16        Ahrens, Don\n2    Ahrens        Don         NaN          4034 Rennellwood Way      NaN     Pleasanton    CA  94566    50.0  2007-06-18            16        Ahrens, Don\n3    Ahrens        Don         NaN          4034 Rennellwood Way      NaN     Pleasanton    CA  94566   100.0  2007-06-21            16        Ahrens, Don\n4      Akin    Charles         NaN        10187 Sugar Creek Road      NaN    Bentonville    AR  72712   100.0  2007-06-16            16      Akin, Charles\n5      Akin       Mike         NaN              181 Baywood Lane      NaN     Monticello    AR  71655  1500.0  2007-05-18            16         Akin, Mike\n6      Akin    Rebecca         NaN              181 Baywood Lane      NaN     Monticello    AR  71655   500.0  2007-05-18            16      Akin, Rebecca\n7  Aldridge    Brittni         NaN  808 Capitol Square Place, SW      NaN     Washington    DC  20024   250.0  2007-06-06            16  Aldridge, Brittni\n8     Allen    John D.         NaN        1052 Cannon Mill Drive      NaN  North Augusta    SC  29860  1000.0  2007-06-11            16     Allen, John D.\n9     Allen    John D.         NaN        1052 Cannon Mill Drive      NaN  North Augusta    SC  29860  1300.0  2007-06-29            16     Allen, John D."
      ]
     },
     "execution_count": 53,
     "metadata": {},
     "output_type": "execute_result"
    }
   ],
   "source": [
    "dfcwci['name']=dfcwci['last_name']+\", \"+dfcwci['first_name']\n",
    "dfcwci.head(10)"
   ]
  },
  {
   "cell_type": "code",
   "execution_count": 54,
   "metadata": {
    "autoscroll": false,
    "collapsed": false,
    "ein.tags": "worksheet-0",
    "slideshow": {
     "slide_type": "-"
    }
   },
   "outputs": [
    {
     "data": {
      "text/plain": [
       "  last_name first_name middle_name                      street_1 street_2           city state    zip  amount        date  candidate_id               name            ucname\n0      Agee     Steven         NaN        549 Laurel Branch Road      NaN          Floyd    VA  24091   500.0  2007-06-30            16       Agee, Steven       Agee:Steven\n1    Ahrens        Don         NaN          4034 Rennellwood Way      NaN     Pleasanton    CA  94566   250.0  2007-05-16            16        Ahrens, Don        Ahrens:Don\n2    Ahrens        Don         NaN          4034 Rennellwood Way      NaN     Pleasanton    CA  94566    50.0  2007-06-18            16        Ahrens, Don        Ahrens:Don\n3    Ahrens        Don         NaN          4034 Rennellwood Way      NaN     Pleasanton    CA  94566   100.0  2007-06-21            16        Ahrens, Don        Ahrens:Don\n4      Akin    Charles         NaN        10187 Sugar Creek Road      NaN    Bentonville    AR  72712   100.0  2007-06-16            16      Akin, Charles      Akin:Charles\n5      Akin       Mike         NaN              181 Baywood Lane      NaN     Monticello    AR  71655  1500.0  2007-05-18            16         Akin, Mike         Akin:Mike\n6      Akin    Rebecca         NaN              181 Baywood Lane      NaN     Monticello    AR  71655   500.0  2007-05-18            16      Akin, Rebecca      Akin:Rebecca\n7  Aldridge    Brittni         NaN  808 Capitol Square Place, SW      NaN     Washington    DC  20024   250.0  2007-06-06            16  Aldridge, Brittni  Aldridge:Brittni\n8     Allen    John D.         NaN        1052 Cannon Mill Drive      NaN  North Augusta    SC  29860  1000.0  2007-06-11            16     Allen, John D.     Allen:John D.\n9     Allen    John D.         NaN        1052 Cannon Mill Drive      NaN  North Augusta    SC  29860  1300.0  2007-06-29            16     Allen, John D.     Allen:John D."
      ]
     },
     "execution_count": 54,
     "metadata": {},
     "output_type": "execute_result"
    }
   ],
   "source": [
    "dfcwci.assign(ucname=dfcwci.last_name+\":\"+dfcwci.first_name).head(10)"
   ]
  },
  {
   "cell_type": "markdown",
   "metadata": {
    "ein.tags": "worksheet-0",
    "slideshow": {
     "slide_type": "-"
    }
   },
   "source": [
    "Will the above command actually change `dfcwci`?. No, it produces a fresh dataframe.\n",
    "\n",
    "#### What if we wanted to change an existing assignment?"
   ]
  },
  {
   "cell_type": "code",
   "execution_count": 55,
   "metadata": {
    "autoscroll": false,
    "collapsed": false,
    "ein.tags": "worksheet-0",
    "slideshow": {
     "slide_type": "-"
    }
   },
   "outputs": [
    {
     "data": {
      "text/plain": [
       "     last_name first_name middle_name                     street_1 street_2             city state        zip  amount        date  candidate_id               name\n0         Agee     Steven         NaN       549 Laurel Branch Road      NaN            Floyd    VA      24091  500.00  2007-06-30            16       Agee, Steven\n27    Buckheit      Bruce         NaN                8904 KAREN DR      NaN          FAIRFAX    VA  220312731  100.00  2007-09-19            20    Buckheit, Bruce\n77   Ranganath      Anoop         NaN           2507 Willard Drive      NaN  Charlottesville    VA      22903 -100.00  2008-04-21            32   Ranganath, Anoop\n88   Perreault     Louise         NaN    503 Brockridge Hunt Drive      NaN          Hampton    VA      23666  -34.08  2008-04-21            32  Perreault, Louise\n145    ABDELLA     THOMAS          M.  4231 MONUMENT WALL WAY #340      NaN          FAIRFAX    VA  220308440   50.00  2007-09-30            35    ABDELLA, THOMAS"
      ]
     },
     "execution_count": 55,
     "metadata": {},
     "output_type": "execute_result"
    }
   ],
   "source": [
    "dfcwci[dfcwci.state=='VA']"
   ]
  },
  {
   "cell_type": "code",
   "execution_count": 56,
   "metadata": {
    "autoscroll": false,
    "collapsed": false,
    "ein.tags": "worksheet-0",
    "slideshow": {
     "slide_type": "-"
    }
   },
   "outputs": [
    {
     "data": {
      "text/plain": [
       "0           Agee, Steven\n27       Buckheit, Bruce\n77      Ranganath, Anoop\n88     Perreault, Louise\n145      ABDELLA, THOMAS\nName: name, dtype: object"
      ]
     },
     "execution_count": 56,
     "metadata": {},
     "output_type": "execute_result"
    }
   ],
   "source": [
    "dfcwci.loc[dfcwci.state=='VA', 'name']"
   ]
  },
  {
   "cell_type": "code",
   "execution_count": 57,
   "metadata": {
    "autoscroll": false,
    "collapsed": false,
    "ein.tags": "worksheet-0",
    "slideshow": {
     "slide_type": "-"
    }
   },
   "outputs": [],
   "source": [
    "dfcwci.loc[dfcwci.state=='VA', 'name']=\"junk\""
   ]
  },
  {
   "cell_type": "code",
   "execution_count": 58,
   "metadata": {
    "autoscroll": false,
    "collapsed": false,
    "ein.tags": "worksheet-0",
    "slideshow": {
     "slide_type": "-"
    }
   },
   "outputs": [
    {
     "data": {
      "text/plain": [
       "     last_name first_name middle_name                     street_1 street_2             city state        zip  amount        date  candidate_id  name\n0         Agee     Steven         NaN       549 Laurel Branch Road      NaN            Floyd    VA      24091  500.00  2007-06-30            16  junk\n27    Buckheit      Bruce         NaN                8904 KAREN DR      NaN          FAIRFAX    VA  220312731  100.00  2007-09-19            20  junk\n77   Ranganath      Anoop         NaN           2507 Willard Drive      NaN  Charlottesville    VA      22903 -100.00  2008-04-21            32  junk\n88   Perreault     Louise         NaN    503 Brockridge Hunt Drive      NaN          Hampton    VA      23666  -34.08  2008-04-21            32  junk\n145    ABDELLA     THOMAS          M.  4231 MONUMENT WALL WAY #340      NaN          FAIRFAX    VA  220308440   50.00  2007-09-30            35  junk"
      ]
     },
     "execution_count": 58,
     "metadata": {},
     "output_type": "execute_result"
    }
   ],
   "source": [
    "dfcwci.query(\"state=='VA'\")"
   ]
  },
  {
   "cell_type": "markdown",
   "metadata": {
    "ein.tags": "worksheet-0",
    "slideshow": {
     "slide_type": "-"
    }
   },
   "source": [
    "### Drop-Column\n",
    "\n",
    "Real simple:"
   ]
  },
  {
   "cell_type": "code",
   "execution_count": 59,
   "metadata": {
    "autoscroll": false,
    "collapsed": false,
    "ein.tags": "worksheet-0",
    "slideshow": {
     "slide_type": "-"
    }
   },
   "outputs": [],
   "source": [
    "del dfcwci['name']"
   ]
  },
  {
   "cell_type": "markdown",
   "metadata": {
    "ein.tags": "worksheet-0",
    "slideshow": {
     "slide_type": "-"
    }
   },
   "source": [
    "#### No DROP COLUMN in SQLITE\n",
    "\n",
    "Its available in other databases. Here you must just re-create your database, or no about this gotcha from the start."
   ]
  },
  {
   "cell_type": "markdown",
   "metadata": {
    "ein.tags": "worksheet-0",
    "slideshow": {
     "slide_type": "-"
    }
   },
   "source": [
    "### AGGREGATE"
   ]
  },
  {
   "cell_type": "code",
   "execution_count": 60,
   "metadata": {
    "autoscroll": false,
    "collapsed": false,
    "ein.tags": "worksheet-0",
    "slideshow": {
     "slide_type": "-"
    }
   },
   "outputs": [
    {
     "data": {
      "text/plain": [
       "                zip       amount  candidate_id\ncount  1.750000e+02   175.000000    175.000000\nmean   3.780014e+08     3.418114     28.000000\nstd    3.628278e+08  1028.418999      7.823484\nmin    2.474000e+03 -2592.000000     16.000000\n25%    9.336700e+04  -175.000000     20.000000\n50%    3.233313e+08   100.000000     32.000000\n75%    7.816946e+08   300.000000     35.000000\nmax    9.951532e+08  4600.000000     37.000000"
      ]
     },
     "execution_count": 60,
     "metadata": {},
     "output_type": "execute_result"
    }
   ],
   "source": [
    "dfcwci.describe()"
   ]
  },
  {
   "cell_type": "code",
   "execution_count": 61,
   "metadata": {
    "autoscroll": false,
    "collapsed": false,
    "ein.tags": "worksheet-0",
    "slideshow": {
     "slide_type": "-"
    }
   },
   "outputs": [
    {
     "data": {
      "text/plain": [
       "4600.0"
      ]
     },
     "execution_count": 61,
     "metadata": {},
     "output_type": "execute_result"
    }
   ],
   "source": [
    "dfcwci.amount.max()"
   ]
  },
  {
   "cell_type": "code",
   "execution_count": 62,
   "metadata": {
    "autoscroll": false,
    "collapsed": false,
    "ein.tags": "worksheet-0",
    "slideshow": {
     "slide_type": "-"
    }
   },
   "outputs": [
    {
     "data": {
      "text/plain": [
       "   last_name first_name middle_name       street_1 street_2       city state        zip  amount        date  candidate_id\n30    Buckel      Linda         NaN  PO Box 683130      NaN  Park City    UT  840683130  4600.0  2007-08-14            20"
      ]
     },
     "execution_count": 62,
     "metadata": {},
     "output_type": "execute_result"
    }
   ],
   "source": [
    "dfcwci[dfcwci.amount==dfcwci.amount.max()]"
   ]
  },
  {
   "cell_type": "code",
   "execution_count": 63,
   "metadata": {
    "autoscroll": false,
    "collapsed": false,
    "ein.tags": "worksheet-0",
    "slideshow": {
     "slide_type": "-"
    }
   },
   "outputs": [
    {
     "data": {
      "text/plain": [
       "    last_name first_name middle_name                 street_1 street_2           city state        zip  amount        date  candidate_id\n30     Buckel      Linda         NaN            PO Box 683130      NaN      Park City    UT  840683130  4600.0  2007-08-14            20\n159     ABATE      MARIA       ELENA  1291 NIGHTINGALE AVENUE      NaN  MIAMI SPRINGS    FL  331663832  2600.0  2008-01-25            37"
      ]
     },
     "execution_count": 63,
     "metadata": {},
     "output_type": "execute_result"
    }
   ],
   "source": [
    "dfcwci[dfcwci.amount > dfcwci.amount.max() - 2300]"
   ]
  },
  {
   "cell_type": "code",
   "execution_count": 64,
   "metadata": {
    "autoscroll": false,
    "collapsed": false,
    "ein.tags": "worksheet-0",
    "slideshow": {
     "slide_type": "-"
    }
   },
   "outputs": [
    {
     "data": {
      "text/plain": [
       "    id last_name first_name middle_name                 street_1 street_2           city state        zip  amount        date  candidate_id\n0   31    Buckel      Linda        None            PO Box 683130     None      Park City    UT  840683130    4600  2007-08-14            20\n1  160     ABATE      MARIA       ELENA  1291 NIGHTINGALE AVENUE     None  MIAMI SPRINGS    FL  331663832    2600  2008-01-25            37"
      ]
     },
     "execution_count": 64,
     "metadata": {},
     "output_type": "execute_result"
    }
   ],
   "source": [
    "out=make_query(\"SELECT * FROM contributors WHERE amount > (select (MAX(amount) - 2300) FROM contributors);\")\n",
    "make_frame(out)"
   ]
  },
  {
   "cell_type": "markdown",
   "metadata": {
    "ein.tags": "worksheet-0",
    "slideshow": {
     "slide_type": "-"
    }
   },
   "source": [
    "Aso `MIN`, `SUM`, `AVG`."
   ]
  },
  {
   "cell_type": "code",
   "execution_count": 65,
   "metadata": {
    "autoscroll": false,
    "collapsed": false,
    "ein.tags": "worksheet-0",
    "slideshow": {
     "slide_type": "-"
    }
   },
   "outputs": [
    {
     "data": {
      "text/plain": [
       "3.4181142857142808"
      ]
     },
     "execution_count": 65,
     "metadata": {},
     "output_type": "execute_result"
    }
   ],
   "source": [
    "dfcwci.amount.mean()"
   ]
  },
  {
   "cell_type": "code",
   "execution_count": 66,
   "metadata": {
    "autoscroll": false,
    "collapsed": false,
    "ein.tags": "worksheet-0",
    "slideshow": {
     "slide_type": "-"
    }
   },
   "outputs": [
    {
     "data": {
      "text/plain": [
       "[(3.418114285714276,)]"
      ]
     },
     "execution_count": 66,
     "metadata": {},
     "output_type": "execute_result"
    }
   ],
   "source": [
    "out=make_query(\"SELECT AVG(amount) FROM contributors;\")\n",
    "out"
   ]
  },
  {
   "cell_type": "markdown",
   "metadata": {
    "ein.tags": "worksheet-0",
    "slideshow": {
     "slide_type": "-"
    }
   },
   "source": [
    "## Grouping using Pandas and split-apply-combine"
   ]
  },
  {
   "cell_type": "code",
   "execution_count": 67,
   "metadata": {
    "autoscroll": false,
    "collapsed": false,
    "ein.tags": "worksheet-0",
    "slideshow": {
     "slide_type": "-"
    }
   },
   "outputs": [
    {
     "data": {
      "text/plain": [
       "<pandas.core.groupby.DataFrameGroupBy object at 0x1087b26d8>"
      ]
     },
     "execution_count": 67,
     "metadata": {},
     "output_type": "execute_result"
    }
   ],
   "source": [
    "grouped_by_state = dfcwci.groupby(\"state\")\n",
    "grouped_by_state"
   ]
  },
  {
   "cell_type": "code",
   "execution_count": 68,
   "metadata": {
    "autoscroll": false,
    "collapsed": false,
    "ein.tags": "worksheet-0",
    "slideshow": {
     "slide_type": "-"
    }
   },
   "outputs": [
    {
     "data": {
      "text/plain": [
       "<pandas.core.groupby.SeriesGroupBy object at 0x1087b23c8>"
      ]
     },
     "execution_count": 68,
     "metadata": {},
     "output_type": "execute_result"
    }
   ],
   "source": [
    "grouped_by_state.amount"
   ]
  },
  {
   "cell_type": "markdown",
   "metadata": {
    "ein.tags": "worksheet-0",
    "slideshow": {
     "slide_type": "-"
    }
   },
   "source": [
    "How do we get access to these? Standard pandas functions distribute over the `groupby`, going one by one over the sub-dataframes or sub-series.  This is an example of a paradigm called split-apply-combine."
   ]
  },
  {
   "cell_type": "markdown",
   "metadata": {
    "ein.tags": "worksheet-0",
    "slideshow": {
     "slide_type": "-"
    }
   },
   "source": [
    "### GROUP-AGG\n",
    "\n",
    "The fourth part of the EDA rubric is to look at properties of the sub-dataframes you get when you make groups. (We'll talk about the graphical aspects of this later). For instance, you might group contributions by state:"
   ]
  },
  {
   "cell_type": "code",
   "execution_count": 69,
   "metadata": {
    "autoscroll": false,
    "collapsed": false,
    "ein.tags": "worksheet-0",
    "slideshow": {
     "slide_type": "-"
    }
   },
   "outputs": [
    {
     "data": {
      "text/plain": [
       "      amount                                                                            candidate_id                                                         zip                                                                                               \n       count         mean          std      min        25%       50%        75%     max        count       mean        std   min    25%   50%    75%   max count          mean           std          min           25%          50%           75%          max\nstate                                                                                                                                                                                                                                                          \nAK       3.0   403.333333   100.166528   300.00   355.0000   410.000   455.0000   500.0          3.0  37.000000   0.000000  37.0  37.00  37.0  37.00  37.0   3.0  9.951532e+08  0.000000e+00  995153207.0  9.951532e+08  995153207.0  9.951532e+08  995153207.0\nAR      12.0  1183.333333   775.574079   100.00   875.0000  1000.000  1700.0000  2300.0         12.0  16.000000   0.000000  16.0  16.00  16.0  16.00  16.0  12.0  7.206583e+04  4.250251e+02      71603.0  7.165500e+04      72033.5  7.222700e+04      72903.0\nAZ       1.0   120.000000          NaN   120.00   120.0000   120.000   120.0000   120.0          1.0  37.000000        NaN  37.0  37.00  37.0  37.00  37.0   1.0  8.600111e+08           NaN  860011121.0  8.600111e+08  860011121.0  8.600111e+08  860011121.0\nCA      23.0  -217.988261   942.102438 -2300.00  -175.0000    50.000   225.0000  1000.0         23.0  26.086957   8.151481  16.0  20.00  22.0  34.50  37.0  23.0  6.407113e+08  4.333269e+08      92127.0  9.456600e+04  913811020.0  9.260504e+08  941151435.0\nCO       4.0 -1455.750000  1025.166125 -2300.00 -2300.0000 -1650.000  -805.7500  -223.0          4.0  27.750000   6.751543  22.0  22.00  27.0  32.75  35.0   4.0  6.013695e+08  4.008598e+08      80020.0  6.009768e+08  801668384.0  8.020610e+08  802061046.0\nCT       1.0  2300.000000          NaN  2300.00  2300.0000  2300.000  2300.0000  2300.0          1.0  35.000000        NaN  35.0  35.00  35.0  35.00  35.0   1.0  6.890138e+07           NaN   68901376.0  6.890138e+07   68901376.0  6.890138e+07   68901376.0\nDC       5.0  -309.982000   529.644175 -1000.00  -500.0000  -500.000   200.0900   250.0          5.0  20.400000   2.607681  16.0  20.00  22.0  22.00  22.0   5.0  1.600684e+08  8.946976e+07      20024.0  2.000525e+08  200052503.0  2.000525e+08  200164320.0\nFL      30.0  -135.000000  1177.383862 -2300.00  -500.0000   100.000   500.0000  2600.0         30.0  26.766667   7.151963  20.0  20.00  22.0  34.00  37.0  30.0  2.990209e+08  1.015776e+08      33647.0  3.233313e+08  333063809.5  3.343163e+08  347344707.0\nIA       1.0   250.000000          NaN   250.00   250.0000   250.000   250.0000   250.0          1.0  16.000000        NaN  16.0  16.00  16.0  16.00  16.0   1.0  5.026600e+04           NaN      50266.0  5.026600e+04      50266.0  5.026600e+04      50266.0\nID       1.0  -261.000000          NaN  -261.00  -261.0000  -261.000  -261.0000  -261.0          1.0  32.000000        NaN  32.0  32.00  32.0  32.00  32.0   1.0  8.364800e+04           NaN      83648.0  8.364800e+04      83648.0  8.364800e+04      83648.0\nIL       6.0  -931.133333  1230.657981 -2592.00 -1936.2000  -472.400    12.5000   200.0          6.0  29.166667   6.645801  20.0  24.50  32.0  32.00  37.0   6.0  5.070114e+08  2.485720e+08      60565.0  6.005716e+08  603169827.0  6.062808e+08  628645116.0\nKS       1.0  -330.000000          NaN  -330.00  -330.0000  -330.000  -330.0000  -330.0          1.0  32.000000        NaN  32.0  32.00  32.0  32.00  32.0   1.0  6.621500e+04           NaN      66215.0  6.621500e+04      66215.0  6.621500e+04      66215.0\nKY       1.0  -200.000000          NaN  -200.00  -200.0000  -200.000  -200.0000  -200.0          1.0  22.000000        NaN  22.0  22.00  22.0  22.00  22.0   1.0  4.025970e+08           NaN  402597029.0  4.025970e+08  402597029.0  4.025970e+08  402597029.0\nLA       2.0   650.000000   212.132034   500.00   575.0000   650.000   725.0000   800.0          2.0  37.000000   0.000000  37.0  37.00  37.0  37.00  37.0   2.0  7.030217e+08  4.242415e+06  700021823.0  7.015217e+08  703021663.5  7.045216e+08  706021504.0\nMA       6.0   -13.833333   248.197838  -503.00    25.0000    47.500    92.5000   200.0          6.0  34.666667   1.966384  32.0  34.00  34.0  36.25  37.0   6.0  2.050444e+07  1.058572e+07       2474.0  1.975712e+07   25727725.0  2.673330e+07   26733300.0\nMD       2.0   150.000000   141.421356    50.00   100.0000   150.000   200.0000   250.0          2.0  27.500000  10.606602  20.0  23.75  27.5  31.25  35.0   2.0  2.081438e+08  1.140563e+03  208143002.0  2.081434e+08  208143808.5  2.081442e+08  208144615.0\nME       4.0   630.000000  1113.522938    50.00    65.0000    85.000   650.0000  2300.0          4.0  30.500000   7.000000  20.0  30.50  34.0  34.00  34.0   4.0  4.141179e+07  4.679973e+06   39071806.0  3.907181e+07   39071806.0  4.141179e+07   48431752.0\nMI       5.0  -253.000000  1156.630883 -2300.00    35.0000   200.000   300.0000   500.0          5.0  32.800000   6.220932  22.0  34.00  34.0  37.00  37.0   5.0  4.853947e+08  5.515168e+06  481885097.0  4.818851e+08  483862274.0  4.842798e+08  495061254.0\nMN       3.0   107.333333   139.145008   -28.00    36.0000   100.000   175.0000   250.0          3.0  33.333333   1.154701  32.0  33.00  34.0  34.00  34.0   3.0  3.674463e+08  3.181694e+08      55902.0  2.755987e+08  551141508.0  5.511415e+08  551141508.0\nMO       1.0   100.000000          NaN   100.00   100.0000   100.000   100.0000   100.0          1.0  20.000000        NaN  20.0  20.00  20.0  20.00  20.0   1.0  6.411100e+04           NaN      64111.0  6.411100e+04      64111.0  6.411100e+04      64111.0\nNC       1.0   500.000000          NaN   500.00   500.0000   500.000   500.0000   500.0          1.0  16.000000        NaN  16.0  16.00  16.0  16.00  16.0   1.0  2.750200e+04           NaN      27502.0  2.750200e+04      27502.0  2.750200e+04      27502.0\nNH       1.0   -24.600000          NaN   -24.60   -24.6000   -24.600   -24.6000   -24.6          1.0  32.000000        NaN  32.0  32.00  32.0  32.00  32.0   1.0  3.256442e+07           NaN   32564424.0  3.256442e+07   32564424.0  3.256442e+07   32564424.0\nNJ       2.0  -408.725000   522.163003  -777.95  -593.3375  -408.725  -224.1125   -39.5          2.0  32.000000   0.000000  32.0  32.00  32.0  32.00  32.0   2.0  3.512750e+07  4.966549e+07       8691.0  1.756809e+07   35127496.5  5.268690e+07   70246302.0\nNV       4.0   181.250000   213.478141    50.00    68.7500    87.500   200.0000   500.0          4.0  36.000000   1.154701  35.0  35.00  36.0  37.00  37.0   4.0  8.939724e+08  1.883416e+06  891175812.0  8.936894e+08  894810312.5  8.950933e+08  895093326.0\nNY       8.0  -809.312500   925.274590 -2300.00 -1250.0000  -575.000  -230.8750   300.0          8.0  29.125000   5.986592  22.0  22.00  32.0  34.00  35.0   8.0  7.576625e+07  4.678602e+07      11701.0  7.512812e+07  100206344.0  1.002265e+08  105072222.0\nOH       4.0   112.500000   289.755644  -200.00   -12.5000    75.000   200.0000   500.0          4.0  20.000000   8.000000  16.0  16.00  16.0  20.00  32.0   4.0  4.401775e+04  1.126738e+03      43143.0  4.314300e+04      43712.0  4.458675e+04      45504.0\nOK       3.0   266.666667   208.166600   100.00   150.0000   200.000   350.0000   500.0          3.0  34.000000   0.000000  34.0  34.00  34.0  34.00  34.0   3.0  7.341663e+08  5.157607e+06  731188602.0  7.311886e+08  731188602.0  7.356552e+08  740121840.0\nPA       5.0  -429.200000   600.635663 -1100.00 -1046.0000  -100.000  -100.0000   200.0          5.0  29.000000   6.708204  22.0  22.00  32.0  32.00  37.0   5.0  1.080998e+08  9.866553e+07      15201.0  1.906700e+04  180153316.0  1.801557e+08  180155718.0\nRI       2.0   100.000000     0.000000   100.00   100.0000   100.000   100.0000   100.0          2.0  35.000000   0.000000  35.0  35.00  35.0  35.00  35.0   2.0  2.903295e+07  0.000000e+00   29032946.0  2.903295e+07   29032946.0  2.903295e+07   29032946.0\nSC       3.0   800.000000   624.499800   100.00   550.0000  1000.000  1150.0000  1300.0          3.0  23.000000  12.124356  16.0  16.00  16.0  26.50  37.0   3.0  9.873826e+07  1.709680e+08      29860.0  2.986000e+04      29860.0  1.480925e+08  296155069.0\nTN       1.0   -25.000000          NaN   -25.00   -25.0000   -25.000   -25.0000   -25.0          1.0  32.000000        NaN  32.0  32.00  32.0  32.00  32.0   1.0  3.718800e+04           NaN      37188.0  3.718800e+04      37188.0  3.718800e+04      37188.0\nTX       9.0   220.582222   664.483748 -1000.00   -14.7600    50.000   500.0000  1300.0          9.0  33.555556   4.746344  22.0  32.00  35.0  37.00  37.0   9.0  6.912725e+08  2.594552e+08      78746.0  7.735463e+08  775816547.0  7.875726e+08  790140007.0\nUT      11.0   459.090909  1716.183000 -2300.00    25.0000    75.000    87.5000  4600.0         11.0  30.909091   7.006490  20.0  27.50  35.0  35.00  35.0  11.0  8.410139e+08  2.208553e+05  840683130.0  8.408522e+08  841176911.0  8.411769e+08  841176911.0\nVA       5.0   103.184000   234.748140  -100.00   -34.0800    50.000   100.0000   500.0          5.0  27.000000   8.426150  16.0  20.00  32.0  32.00  35.0   5.0  8.813837e+07  1.206562e+08      22903.0  2.366600e+04      24091.0  2.203084e+08  220312731.0\nWA       3.0  -166.666667   461.880215  -700.00  -300.0000   100.000   100.0000   100.0          3.0  30.000000   6.928203  22.0  28.00  34.0  34.00  34.0   3.0  9.804301e+08  5.270573e+05  980125787.0  9.801258e+08  980125787.0  9.805822e+08  981038677.0"
      ]
     },
     "execution_count": 69,
     "metadata": {},
     "output_type": "execute_result"
    }
   ],
   "source": [
    "dfcwci.groupby(\"state\").describe()"
   ]
  },
  {
   "cell_type": "code",
   "execution_count": 70,
   "metadata": {
    "autoscroll": false,
    "collapsed": false,
    "ein.tags": "worksheet-0",
    "slideshow": {
     "slide_type": "-"
    }
   },
   "outputs": [
    {
     "data": {
      "text/plain": [
       "               zip    amount  candidate_id\nstate                                     \nAK      2985459621   1210.00           111\nAR          864790  14200.00           192\nAZ       860011121    120.00            37\nCA     14736360720  -5013.73           600\nCO      2405477834  -5823.00           111\nCT        68901376   2300.00            35\nDC       800341853  -1549.91           102\nFL      8970626520  -4050.00           803\nIA           50266    250.00            16\nID           83648   -261.00            32\nIL      3042068689  -5586.80           175\nKS           66215   -330.00            32\nKY       402597029   -200.00            22\nLA      1406043327   1300.00            74\nMA       123026638    -83.00           208\nMD       416287617    300.00            55\nME       165647170   2520.00           122\nMI      2426973485  -1265.00           164\nMN      1102338918    322.00           100\nMO           64111    100.00            20\nNC           27502    500.00            16\nNH        32564424    -24.60            32\nNJ        70254993   -817.45            64\nNV      3575889763    725.00           144\nNY       606129991  -6474.50           233\nOH          176071    450.00            80\nOK      2202499044    800.00           102\nPA       540499020  -2146.00           145\nRI        58065892    200.00            70\nSC       296214789   2400.00            69\nTN           37188    -25.00            32\nTX      6221452245   1985.24           302\nUT      9251153394   5050.00           340\nVA       440691831    515.92           135\nWA      2941290251   -500.00            90"
      ]
     },
     "execution_count": 70,
     "metadata": {},
     "output_type": "execute_result"
    }
   ],
   "source": [
    "dfcwci.groupby(\"state\").sum()"
   ]
  },
  {
   "cell_type": "code",
   "execution_count": 71,
   "metadata": {
    "autoscroll": false,
    "collapsed": false,
    "ein.tags": "worksheet-0",
    "slideshow": {
     "slide_type": "-"
    }
   },
   "outputs": [
    {
     "data": {
      "text/plain": [
       "   state       sum\n0   None   -500.00\n1     AK   1210.00\n2     AR  14200.00\n3     AZ    120.00\n4     CA  -5013.73\n5     CO  -5823.00\n6     CT   2300.00\n7     DC  -1549.91\n8     FL  -4050.00\n9     IA    250.00\n10    ID   -261.00\n11    IL  -5586.80\n12    KS   -330.00\n13    KY   -200.00\n14    LA   1300.00\n15    MA    -83.00\n16    MD    300.00\n17    ME   2520.00\n18    MI  -1265.00\n19    MN    322.00\n20    MO    100.00\n21    NC    500.00\n22    NH    -24.60\n23    NJ   -817.45\n24    NV    725.00\n25    NY  -6474.50\n26    OH    450.00\n27    OK    800.00\n28    PA  -2146.00\n29    RI    200.00\n30    SC   2400.00\n31    TN    -25.00\n32    TX   1985.24\n33    UT   5050.00\n34    VA    515.92\n35    WA   -500.00"
      ]
     },
     "execution_count": 71,
     "metadata": {},
     "output_type": "execute_result"
    }
   ],
   "source": [
    "out=make_query(\"SELECT state,SUM(amount) FROM contributors GROUP BY state;\")\n",
    "make_frame(out, legend=['state','sum'])"
   ]
  },
  {
   "cell_type": "code",
   "execution_count": 72,
   "metadata": {
    "autoscroll": false,
    "collapsed": false,
    "ein.tags": "worksheet-0",
    "slideshow": {
     "slide_type": "-"
    }
   },
   "outputs": [
    {
     "data": {
      "text/plain": [
       "state\nAK     403.333333\nAR    1183.333333\nAZ     120.000000\nCA    -217.988261\nCO   -1455.750000\nCT    2300.000000\nDC    -309.982000\nFL    -135.000000\nIA     250.000000\nID    -261.000000\nIL    -931.133333\nKS    -330.000000\nKY    -200.000000\nLA     650.000000\nMA     -13.833333\nMD     150.000000\nME     630.000000\nMI    -253.000000\nMN     107.333333\nMO     100.000000\nNC     500.000000\nNH     -24.600000\nNJ    -408.725000\nNV     181.250000\nNY    -809.312500\nOH     112.500000\nOK     266.666667\nPA    -429.200000\nRI     100.000000\nSC     800.000000\nTN     -25.000000\nTX     220.582222\nUT     459.090909\nVA     103.184000\nWA    -166.666667\nName: amount, dtype: float64"
      ]
     },
     "execution_count": 72,
     "metadata": {},
     "output_type": "execute_result"
    }
   ],
   "source": [
    "dfcwci.groupby(\"state\")['amount'].mean()"
   ]
  },
  {
   "cell_type": "code",
   "execution_count": 73,
   "metadata": {
    "autoscroll": false,
    "collapsed": false,
    "ein.tags": "worksheet-0",
    "slideshow": {
     "slide_type": "-"
    }
   },
   "outputs": [
    {
     "data": {
      "text/plain": [
       "state\nAK      81.785628\nAR     742.555647\nAZ       0.000000\nCA     921.394361\nCO     887.819907\nCT       0.000000\nDC     473.728151\nFL    1157.594489\nIA       0.000000\nID       0.000000\nIL    1123.431895\nKS       0.000000\nKY       0.000000\nLA     150.000000\nMA     226.572591\nMD     100.000000\nME     964.339152\nMI    1034.522112\nMN     113.611424\nMO       0.000000\nNC       0.000000\nNH       0.000000\nNJ     369.225000\nNV     184.877493\nNY     865.515126\nOH     250.935749\nOK     169.967317\nPA     537.224869\nRI       0.000000\nSC     509.901951\nTN       0.000000\nTX     626.481285\nUT    1636.316287\nVA     209.965120\nWA     377.123617\nName: amount, dtype: float64"
      ]
     },
     "execution_count": 73,
     "metadata": {},
     "output_type": "execute_result"
    }
   ],
   "source": [
    "dfcwci.groupby(\"state\")['amount'].apply(lambda x: np.std(x))"
   ]
  },
  {
   "cell_type": "markdown",
   "metadata": {
    "ein.tags": "worksheet-0",
    "slideshow": {
     "slide_type": "-"
    }
   },
   "source": [
    "The dictionary-like structure is more obvious in this method of iteration, but it does not do the combining part..."
   ]
  },
  {
   "cell_type": "code",
   "execution_count": 74,
   "metadata": {
    "autoscroll": false,
    "collapsed": false,
    "ein.tags": "worksheet-0",
    "slideshow": {
     "slide_type": "-"
    }
   },
   "outputs": [
    {
     "name": "stdout",
     "output_type": "stream",
     "text": [
      "State AK mean amount 403.333333333 std 100.166528009\n",
      "State AR mean amount 1183.33333333 std 775.574078677\n",
      "State AZ mean amount 120.0 std nan\n",
      "State CA mean amount -217.98826087 std 942.102437919\n",
      "State CO mean amount -1455.75 std 1025.16612475\n",
      "State CT mean amount 2300.0 std nan\n",
      "State DC mean amount -309.982 std 529.644174536\n",
      "State FL"
     ]
    },
    {
     "name": "stdout",
     "output_type": "stream",
     "text": [
      " mean amount -135.0 std 1177.38386205\n",
      "State IA mean amount 250.0 std nan\n",
      "State ID mean amount -261.0 std nan\n",
      "State IL mean amount -931.133333333 std 1230.65798119\n",
      "State KS mean amount -330.0 std nan\n",
      "State KY mean amount -200.0 std nan\n",
      "State LA mean amount 650.0 std 212.132034356\n",
      "State MA mean amount -13.8333333333 std 248.197837756\n",
      "State MD mean amount 150.0 std 141.421356237\n",
      "State ME mean amount 630.0 std 1113.52293795\n",
      "State MI mean amount -253.0 std 1156.63088321\n",
      "State MN mean amount 107.333333333 std 139.145008295\n",
      "State MO mean amount 100.0 std nan\n",
      "State NC mean amount 500.0 std nan\n",
      "State NH mean amount -24.6 std nan\n",
      "State NJ mean amount -408.725 std 522.163002567\n",
      "State NV mean amount 181.25 std 213.478140957\n",
      "State NY mean amount -809.3125 std 925.274590035\n",
      "State OH mean amount 112.5 std 289.755644179\n",
      "State OK mean amount 266.666666667 std 208.166599947\n",
      "State PA mean amount -429.2 std 600.635663277\n",
      "State RI mean amount 100.0 std 0.0\n",
      "State SC mean amount 800.0 std 624.49979984\n",
      "State TN mean amount -25.0 std nan\n",
      "State "
     ]
    },
    {
     "name": "stdout",
     "output_type": "stream",
     "text": [
      "TX mean amount 220.582222222 std 664.483747615\n",
      "State UT mean amount 459.090909091 std 1716.18300041\n",
      "State VA mean amount 103.184 std 234.748140099\n",
      "State WA mean amount -166.666666667 std 461.880215352\n"
     ]
    }
   ],
   "source": [
    "for k, v in dfcwci.groupby('state'):\n",
    "    print(\"State\", k, \"mean amount\", v.amount.mean(), \"std\", v.amount.std())"
   ]
  },
  {
   "cell_type": "markdown",
   "metadata": {
    "ein.tags": "worksheet-0",
    "slideshow": {
     "slide_type": "-"
    }
   },
   "source": [
    "### DELETE"
   ]
  },
  {
   "cell_type": "code",
   "execution_count": 75,
   "metadata": {
    "autoscroll": false,
    "collapsed": false,
    "ein.tags": "worksheet-0",
    "slideshow": {
     "slide_type": "-"
    }
   },
   "outputs": [
    {
     "data": {
      "text/plain": [
       "  last_name first_name middle_name                street_1 street_2         city state    zip  amount        date  candidate_id\n0      Agee     Steven         NaN  549 Laurel Branch Road      NaN        Floyd    VA  24091   500.0  2007-06-30            16\n1    Ahrens        Don         NaN    4034 Rennellwood Way      NaN   Pleasanton    CA  94566   250.0  2007-05-16            16\n2    Ahrens        Don         NaN    4034 Rennellwood Way      NaN   Pleasanton    CA  94566    50.0  2007-06-18            16\n3    Ahrens        Don         NaN    4034 Rennellwood Way      NaN   Pleasanton    CA  94566   100.0  2007-06-21            16\n4      Akin    Charles         NaN  10187 Sugar Creek Road      NaN  Bentonville    AR  72712   100.0  2007-06-16            16"
      ]
     },
     "execution_count": 75,
     "metadata": {},
     "output_type": "execute_result"
    }
   ],
   "source": [
    "dfcwci.head()"
   ]
  },
  {
   "cell_type": "markdown",
   "metadata": {
    "ein.tags": "worksheet-0",
    "slideshow": {
     "slide_type": "-"
    }
   },
   "source": [
    "In-place drops"
   ]
  },
  {
   "cell_type": "code",
   "execution_count": 76,
   "metadata": {
    "autoscroll": false,
    "collapsed": false,
    "ein.tags": "worksheet-0",
    "slideshow": {
     "slide_type": "-"
    }
   },
   "outputs": [
    {
     "data": {
      "text/plain": [
       "          first_name middle_name                street_1 street_2         city state    zip  amount        date  candidate_id\nlast_name                                                                                                                    \nAgee          Steven         NaN  549 Laurel Branch Road      NaN        Floyd    VA  24091   500.0  2007-06-30            16\nAhrens           Don         NaN    4034 Rennellwood Way      NaN   Pleasanton    CA  94566   250.0  2007-05-16            16\nAhrens           Don         NaN    4034 Rennellwood Way      NaN   Pleasanton    CA  94566    50.0  2007-06-18            16\nAhrens           Don         NaN    4034 Rennellwood Way      NaN   Pleasanton    CA  94566   100.0  2007-06-21            16\nAkin         Charles         NaN  10187 Sugar Creek Road      NaN  Bentonville    AR  72712   100.0  2007-06-16            16"
      ]
     },
     "execution_count": 76,
     "metadata": {},
     "output_type": "execute_result"
    }
   ],
   "source": [
    "df2=dfcwci.copy()\n",
    "df2.set_index('last_name', inplace=True)\n",
    "df2.head()"
   ]
  },
  {
   "cell_type": "code",
   "execution_count": 77,
   "metadata": {
    "autoscroll": false,
    "collapsed": false,
    "ein.tags": "worksheet-0",
    "slideshow": {
     "slide_type": "-"
    }
   },
   "outputs": [
    {
     "data": {
      "text/plain": [
       "          first_name middle_name                      street_1 street_2         city state    zip  amount        date  candidate_id\nlast_name                                                                                                                          \nAgee          Steven         NaN        549 Laurel Branch Road      NaN        Floyd    VA  24091   500.0  2007-06-30            16\nAkin         Charles         NaN        10187 Sugar Creek Road      NaN  Bentonville    AR  72712   100.0  2007-06-16            16\nAkin            Mike         NaN              181 Baywood Lane      NaN   Monticello    AR  71655  1500.0  2007-05-18            16\nAkin         Rebecca         NaN              181 Baywood Lane      NaN   Monticello    AR  71655   500.0  2007-05-18            16\nAldridge     Brittni         NaN  808 Capitol Square Place, SW      NaN   Washington    DC  20024   250.0  2007-06-06            16"
      ]
     },
     "execution_count": 77,
     "metadata": {},
     "output_type": "execute_result"
    }
   ],
   "source": [
    "df2.drop(['Ahrens'], inplace=True)\n",
    "df2.head()"
   ]
  },
  {
   "cell_type": "code",
   "execution_count": 78,
   "metadata": {
    "autoscroll": false,
    "collapsed": false,
    "ein.tags": "worksheet-0",
    "scrolled": true,
    "slideshow": {
     "slide_type": "-"
    }
   },
   "outputs": [
    {
     "data": {
      "text/plain": [
       "  last_name first_name middle_name                      street_1 street_2         city state    zip  amount        date  candidate_id\n0      Agee     Steven         NaN        549 Laurel Branch Road      NaN        Floyd    VA  24091   500.0  2007-06-30            16\n1      Akin    Charles         NaN        10187 Sugar Creek Road      NaN  Bentonville    AR  72712   100.0  2007-06-16            16\n2      Akin       Mike         NaN              181 Baywood Lane      NaN   Monticello    AR  71655  1500.0  2007-05-18            16\n3      Akin    Rebecca         NaN              181 Baywood Lane      NaN   Monticello    AR  71655   500.0  2007-05-18            16\n4  Aldridge    Brittni         NaN  808 Capitol Square Place, SW      NaN   Washington    DC  20024   250.0  2007-06-06            16"
      ]
     },
     "execution_count": 78,
     "metadata": {},
     "output_type": "execute_result"
    }
   ],
   "source": [
    "df2.reset_index(inplace=True)\n",
    "df2.head()"
   ]
  },
  {
   "cell_type": "markdown",
   "metadata": {
    "ein.tags": "worksheet-0",
    "slideshow": {
     "slide_type": "-"
    }
   },
   "source": [
    "The recommended way to do it is to create a new dataframe. This might be impractical if things are very large."
   ]
  },
  {
   "cell_type": "code",
   "execution_count": 79,
   "metadata": {
    "autoscroll": false,
    "collapsed": false,
    "ein.tags": "worksheet-0",
    "slideshow": {
     "slide_type": "-"
    }
   },
   "outputs": [
    {
     "data": {
      "text/plain": [
       "   last_name first_name middle_name                      street_1 street_2           city state    zip  amount        date  candidate_id\n0       Agee     Steven         NaN        549 Laurel Branch Road      NaN          Floyd    VA  24091   500.0  2007-06-30            16\n4       Akin    Charles         NaN        10187 Sugar Creek Road      NaN    Bentonville    AR  72712   100.0  2007-06-16            16\n5       Akin       Mike         NaN              181 Baywood Lane      NaN     Monticello    AR  71655  1500.0  2007-05-18            16\n6       Akin    Rebecca         NaN              181 Baywood Lane      NaN     Monticello    AR  71655   500.0  2007-05-18            16\n7   Aldridge    Brittni         NaN  808 Capitol Square Place, SW      NaN     Washington    DC  20024   250.0  2007-06-06            16\n8      Allen    John D.         NaN        1052 Cannon Mill Drive      NaN  North Augusta    SC  29860  1000.0  2007-06-11            16\n9      Allen    John D.         NaN        1052 Cannon Mill Drive      NaN  North Augusta    SC  29860  1300.0  2007-06-29            16\n10   Allison    John W.         NaN                 P.O. Box 1089      NaN         Conway    AR  72033  1000.0  2007-05-18            16\n11   Allison    Rebecca         NaN             3206 Summit Court      NaN    Little Rock    AR  72227  1000.0  2007-04-25            16\n12   Allison    Rebecca         NaN             3206 Summit Court      NaN    Little Rock    AR  72227   200.0  2007-06-12            16"
      ]
     },
     "execution_count": 79,
     "metadata": {},
     "output_type": "execute_result"
    }
   ],
   "source": [
    "dfcwci=dfcwci[dfcwci.last_name!='Ahrens']\n",
    "dfcwci.head(10)"
   ]
  },
  {
   "cell_type": "markdown",
   "metadata": {
    "ein.tags": "worksheet-0",
    "slideshow": {
     "slide_type": "-"
    }
   },
   "source": [
    "### LIMIT"
   ]
  },
  {
   "cell_type": "code",
   "execution_count": 80,
   "metadata": {
    "autoscroll": false,
    "collapsed": false,
    "ein.tags": "worksheet-0",
    "slideshow": {
     "slide_type": "-"
    }
   },
   "outputs": [
    {
     "data": {
      "text/plain": [
       "  last_name first_name middle_name                street_1 street_2         city state    zip  amount        date  candidate_id\n0      Agee     Steven         NaN  549 Laurel Branch Road      NaN        Floyd    VA  24091   500.0  2007-06-30            16\n4      Akin    Charles         NaN  10187 Sugar Creek Road      NaN  Bentonville    AR  72712   100.0  2007-06-16            16\n5      Akin       Mike         NaN        181 Baywood Lane      NaN   Monticello    AR  71655  1500.0  2007-05-18            16"
      ]
     },
     "execution_count": 80,
     "metadata": {},
     "output_type": "execute_result"
    }
   ],
   "source": [
    "dfcwci[0:3] # also see loc and iloc from the lab"
   ]
  },
  {
   "cell_type": "code",
   "execution_count": 81,
   "metadata": {
    "autoscroll": false,
    "collapsed": false,
    "ein.tags": "worksheet-0",
    "slideshow": {
     "slide_type": "-"
    }
   },
   "outputs": [
    {
     "data": {
      "text/plain": [
       "   id last_name first_name middle_name                street_1 street_2        city state    zip  amount        date  candidate_id\n0   1      Agee     Steven        None  549 Laurel Branch Road     None       Floyd    VA  24091     500  2007-06-30            16\n1   2    Ahrens        Don        None    4034 Rennellwood Way     None  Pleasanton    CA  94566     250  2007-05-16            16\n2   3    Ahrens        Don        None    4034 Rennellwood Way     None  Pleasanton    CA  94566      50  2007-06-18            16"
      ]
     },
     "execution_count": 81,
     "metadata": {},
     "output_type": "execute_result"
    }
   ],
   "source": [
    "out=make_query(\"SELECT * FROM contributors LIMIT 3;\")\n",
    "make_frame(out).head(10)"
   ]
  },
  {
   "cell_type": "markdown",
   "metadata": {
    "ein.tags": "worksheet-0",
    "slideshow": {
     "slide_type": "-"
    }
   },
   "source": [
    "### DB's only: indexes"
   ]
  },
  {
   "cell_type": "code",
   "execution_count": 82,
   "metadata": {
    "autoscroll": false,
    "collapsed": false,
    "ein.tags": "worksheet-0",
    "slideshow": {
     "slide_type": "-"
    }
   },
   "outputs": [],
   "source": [
    "crind=\"CREATE INDEX amount_ix ON contributors(amount);\"\n",
    "db.cursor().execute(crind)\n",
    "db.commit()"
   ]
  },
  {
   "cell_type": "code",
   "execution_count": 83,
   "metadata": {
    "autoscroll": false,
    "collapsed": false,
    "ein.tags": "worksheet-0",
    "slideshow": {
     "slide_type": "-"
    }
   },
   "outputs": [
    {
     "name": "stdout",
     "output_type": "stream",
     "text": [
      "CREATE TABLE IF NOT EXISTS \"candidates\" (\n",
      "    \"id\" INTEGER PRIMARY KEY  NOT NULL ,\n",
      "    \"first_name\" VARCHAR,\n",
      "    \"last_name\" VARCHAR,\n",
      "    \"middle_name\" VARCHAR,\n",
      "    \"party\" VARCHAR NOT NULL\n",
      ");\n",
      "CREATE TABLE IF NOT EXISTS \"contributors\" (\n",
      "    \"id\" INTEGER PRIMARY KEY  AUTOINCREMENT  NOT NULL,\n",
      "    \"last_name\" VARCHAR,\n",
      "    \"first_name\" VARCHAR,\n",
      "    \"middle_name\" VARCHAR,\n",
      "    \"street_1\" VARCHAR,\n",
      "    \"street_2\" VARCHAR,\n",
      "    \"city\" VARCHAR,\n",
      "    \"state\" VARCHAR,\n",
      "    \"zip\" VARCHAR,\n",
      "    \"amount\" INTEGER,\n",
      "    \"date\" DATETIME,\n",
      "    \"candidate_id\" INTEGER NOT NULL,\n",
      "    FOREIGN KEY(candidate_id) REFERENCES candidates(id)\n",
      ");\n",
      "CREATE TABLE sqlite_sequence(name,seq);\n",
      "CREATE INDEX amount_ix ON contributors(amount);\n"
     ]
    }
   ],
   "source": [
    "%%bash\n",
    "echo \".schema\" | sqlite3 /tmp/cancont.db"
   ]
  },
  {
   "cell_type": "markdown",
   "metadata": {
    "ein.tags": "worksheet-0",
    "slideshow": {
     "slide_type": "-"
    }
   },
   "source": [
    "## Relationships: JOINs are Cartesian Products.\n",
    "\n",
    "Finally, there are many occasions you will want to combine dataframes. We might want to see who contributed to Obama:"
   ]
  },
  {
   "cell_type": "markdown",
   "metadata": {
    "ein.tags": "worksheet-0",
    "slideshow": {
     "slide_type": "-"
    }
   },
   "source": [
    "### Simple subselect"
   ]
  },
  {
   "cell_type": "code",
   "execution_count": 84,
   "metadata": {
    "autoscroll": false,
    "collapsed": false,
    "ein.tags": "worksheet-0",
    "slideshow": {
     "slide_type": "-"
    }
   },
   "outputs": [
    {
     "data": {
      "text/plain": [
       "   id   first_name  last_name middle_name party\n0  33       Joseph      Biden         NaN     D\n1  36       Samuel  Brownback         NaN     R\n2  34      Hillary    Clinton          R.     D\n3  39  Christopher       Dodd          J.     D\n4  26         John    Edwards         NaN     D"
      ]
     },
     "execution_count": 84,
     "metadata": {},
     "output_type": "execute_result"
    }
   ],
   "source": [
    "dfcand.head()"
   ]
  },
  {
   "cell_type": "code",
   "execution_count": 85,
   "metadata": {
    "autoscroll": false,
    "collapsed": false,
    "ein.tags": "worksheet-0",
    "slideshow": {
     "slide_type": "-"
    }
   },
   "outputs": [],
   "source": [
    "obamaid=dfcand.query(\"last_name=='Obama'\")['id'].values[0]"
   ]
  },
  {
   "cell_type": "code",
   "execution_count": 86,
   "metadata": {
    "autoscroll": false,
    "collapsed": false,
    "ein.tags": "worksheet-0",
    "slideshow": {
     "slide_type": "-"
    }
   },
   "outputs": [
    {
     "data": {
      "text/plain": [
       "   last_name first_name middle_name         street_1 street_2        city state        zip  amount        date  candidate_id\n25   Buckler      Steve         NaN  24351 Armada Dr      NaN  Dana Point    CA  926291306    50.0  2007-07-30            20\n26   Buckler      Steve         NaN  24351 Armada Dr      NaN  Dana Point    CA  926291306    25.0  2007-08-16            20\n27  Buckheit      Bruce         NaN    8904 KAREN DR      NaN     FAIRFAX    VA  220312731   100.0  2007-09-19            20\n28    Buckel      Linda         NaN    PO Box 683130      NaN   Park City    UT  840683130  2300.0  2007-08-14            20\n29    Buckel      Linda         NaN    PO Box 683130      NaN   Park City    UT  840683130 -2300.0  2007-08-14            20"
      ]
     },
     "execution_count": 86,
     "metadata": {},
     "output_type": "execute_result"
    }
   ],
   "source": [
    "obamacontrib=dfcwci.query(\"candidate_id==%i\" % obamaid)\n",
    "obamacontrib.head()"
   ]
  },
  {
   "cell_type": "code",
   "execution_count": 87,
   "metadata": {
    "autoscroll": false,
    "collapsed": false,
    "ein.tags": "worksheet-0",
    "slideshow": {
     "slide_type": "-"
    }
   },
   "outputs": [
    {
     "data": {
      "text/plain": [
       "   id last_name first_name middle_name         street_1 street_2        city state        zip  amount        date  candidate_id\n0  26   Buckler      Steve        None  24351 Armada Dr     None  Dana Point    CA  926291306    50.0  2007-07-30            20\n1  27   Buckler      Steve        None  24351 Armada Dr     None  Dana Point    CA  926291306    25.0  2007-08-16            20\n2  28  Buckheit      Bruce        None    8904 KAREN DR     None     FAIRFAX    VA  220312731   100.0  2007-09-19            20\n3  29    Buckel      Linda        None    PO Box 683130     None   Park City    UT  840683130  2300.0  2007-08-14            20\n4  30    Buckel      Linda        None    PO Box 683130     None   Park City    UT  840683130 -2300.0  2007-08-14            20"
      ]
     },
     "execution_count": 87,
     "metadata": {},
     "output_type": "execute_result"
    }
   ],
   "source": [
    "russiandollsel=\"\"\"\n",
    "SELECT * FROM contributors WHERE \n",
    "    candidate_id = (SELECT id from candidates WHERE last_name = 'Obama');\n",
    "\"\"\"\n",
    "out=make_query(russiandollsel)\n",
    "make_frame(out).head()"
   ]
  },
  {
   "cell_type": "markdown",
   "metadata": {
    "ein.tags": "worksheet-0",
    "slideshow": {
     "slide_type": "-"
    }
   },
   "source": [
    "### Explicit INNER JOIN\n",
    "\n",
    "This is the one you will want 90% of the time. It will only match keys that are present in both dataframes."
   ]
  },
  {
   "cell_type": "markdown",
   "metadata": {
    "ein.tags": "worksheet-0",
    "slideshow": {
     "slide_type": "-"
    }
   },
   "source": [
    "![inner join](http://pandas.pydata.org/pandas-docs/stable/_images/merging_merge_on_key_inner.png)\n",
    "\n",
    "(from http://pandas.pydata.org/pandas-docs/stable/merging.html)"
   ]
  },
  {
   "cell_type": "code",
   "execution_count": 88,
   "metadata": {
    "autoscroll": false,
    "collapsed": false,
    "ein.tags": "worksheet-0",
    "slideshow": {
     "slide_type": "-"
    }
   },
   "outputs": [
    {
     "data": {
      "text/plain": [
       "     last_name_x first_name_x  candidate_id  id last_name_y\n0           Agee       Steven            16  16    Huckabee\n1           Akin      Charles            16  16    Huckabee\n2           Akin         Mike            16  16    Huckabee\n3           Akin      Rebecca            16  16    Huckabee\n4       Aldridge      Brittni            16  16    Huckabee\n5          Allen      John D.            16  16    Huckabee\n6          Allen      John D.            16  16    Huckabee\n7        Allison      John W.            16  16    Huckabee\n8        Allison      Rebecca            16  16    Huckabee\n9        Allison      Rebecca            16  16    Huckabee\n10         Altes         R.D.            16  16    Huckabee\n11        Andres         Dale            16  16    Huckabee\n12       Anthony         John            16  16    Huckabee\n13      Arbogast       Robert            16  16    Huckabee\n14      Arbogast       Robert            16  16    Huckabee\n15         Ardle      William            16  16    Huckabee\n16          Atiq         Omar            16  16    Huckabee\n17          Atiq         Omar            16  16    Huckabee\n18         Baker        David            16  16    Huckabee\n19      Bancroft        David            16  16    Huckabee\n20         Banks      Charles            16  16    Huckabee\n21        Barbee         John            16  16    Huckabee\n22       Buckler        Steve            20  20       Obama\n23       Buckler        Steve            20  20       Obama\n24      Buckheit        Bruce            20  20       Obama\n25        Buckel        Linda            20  20       Obama\n26        Buckel        Linda            20  20       Obama\n27        Buckel        Linda            20  20       Obama\n28          Buck       Thomas            20  20       Obama\n29          Buck          Jay            20  20       Obama\n..           ...          ...           ...  ..         ...\n142      ABDELLA       THOMAS            35  35      Romney\n143       ABBOTT       WELDON            35  35      Romney\n144       ABBOTT       WELDON            35  35      Romney\n145       ABBOTT       GERALD            35  35      Romney\n146       ABBOTT       GERALD            35  35      Romney\n147       ABEDIN       ZAINUL            37  37      McCain\n148       ABBOTT        SYBIL            37  37      McCain\n149       ABBOTT        SYBIL            37  37      McCain\n150       ABBOTT       RONALD            37  37      McCain\n151       ABBOTT       RONALD            37  37      McCain\n152       ABBOTT       ROBERT            37  37      McCain\n153       ABBOTT         MIKE            37  37      McCain\n154        ABBOT        DAVID            37  37      McCain\n155         ABBO      PAULINE            37  37      McCain\n156        ABATE        MARIA            37  37      McCain\n157        ABAIR        PETER            37  37      McCain\n158    ABACHERLI      SHIRLEY            37  37      McCain\n159       AARONS      CHARLES            37  37      McCain\n160       AARONS      CHARLES            37  37      McCain\n161       AARONS      CHARLES            37  37      McCain\n162         ABEL         JOHN            37  37      McCain\n163         ABEL      MARLING            37  37      McCain\n164         ABEL      RUDOLPH            37  37      McCain\n165        ABELE       RODNEY            37  37      McCain\n166  ABERCROMBIE        DENIS            37  37      McCain\n167     ABESHAUS      MERRILL            37  37      McCain\n168      ABRAHAM       GEORGE            37  37      McCain\n169   ABRAHAMSON        PETER            37  37      McCain\n170      ABRAHAM        SALEM            37  37      McCain\n171      ABRAHAM        SALEM            37  37      McCain\n\n[172 rows x 5 columns]"
      ]
     },
     "execution_count": 88,
     "metadata": {},
     "output_type": "execute_result"
    }
   ],
   "source": [
    "cols_wanted=['last_name_x', 'first_name_x', 'candidate_id', 'id', 'last_name_y']\n",
    "dfcwci.merge(dfcand, left_on=\"candidate_id\", right_on=\"id\")[cols_wanted]"
   ]
  },
  {
   "cell_type": "markdown",
   "metadata": {
    "ein.tags": "worksheet-0",
    "slideshow": {
     "slide_type": "-"
    }
   },
   "source": [
    "If the names of the columns you wanted to merge on were identical, you could simply say `on=id`, for example, rather than a `left_on` and a `right_on`."
   ]
  },
  {
   "cell_type": "code",
   "execution_count": 89,
   "metadata": {
    "autoscroll": false,
    "collapsed": false,
    "ein.tags": "worksheet-0",
    "slideshow": {
     "slide_type": "-"
    }
   },
   "outputs": [
    {
     "data": {
      "text/plain": [
       "  contributors.last_name contributors.first_name candidates.last_name\n0                   Agee                  Steven             Huckabee\n1                 Ahrens                     Don             Huckabee\n2                 Ahrens                     Don             Huckabee\n3                 Ahrens                     Don             Huckabee\n4                   Akin                 Charles             Huckabee"
      ]
     },
     "execution_count": 89,
     "metadata": {},
     "output_type": "execute_result"
    }
   ],
   "source": [
    "explicitjoinsel=\"\"\"\n",
    "SELECT \n",
    "    contributors.last_name, contributors.first_name, candidates.last_name \n",
    "FROM \n",
    "    contributors JOIN candidates \n",
    "ON contributors.candidate_id = candidates.id;\n",
    "\"\"\"\n",
    "out=make_query(explicitjoinsel)\n",
    "make_frame(out, legend=[\"contributors.last_name\", \n",
    "            \"contributors.first_name\",  \"candidates.last_name\"]).head()"
   ]
  },
  {
   "cell_type": "markdown",
   "metadata": {
    "ein.tags": "worksheet-0",
    "slideshow": {
     "slide_type": "-"
    }
   },
   "source": [
    "### Outer JOIN"
   ]
  },
  {
   "cell_type": "markdown",
   "metadata": {
    "ein.tags": "worksheet-0",
    "slideshow": {
     "slide_type": "-"
    }
   },
   "source": [
    "#### left outer (contributors on candidates)"
   ]
  },
  {
   "cell_type": "markdown",
   "metadata": {
    "ein.tags": "worksheet-0",
    "slideshow": {
     "slide_type": "-"
    }
   },
   "source": [
    "![left outer](http://pandas.pydata.org/pandas-docs/stable/_images/merging_merge_on_key_left.png)"
   ]
  },
  {
   "cell_type": "code",
   "execution_count": 90,
   "metadata": {
    "autoscroll": false,
    "collapsed": false,
    "ein.tags": "worksheet-0",
    "slideshow": {
     "slide_type": "-"
    }
   },
   "outputs": [
    {
     "data": {
      "text/plain": [
       "     last_name_x first_name_x  candidate_id  id last_name_y\n0           Agee       Steven            16  16    Huckabee\n1           Akin      Charles            16  16    Huckabee\n2           Akin         Mike            16  16    Huckabee\n3           Akin      Rebecca            16  16    Huckabee\n4       Aldridge      Brittni            16  16    Huckabee\n5          Allen      John D.            16  16    Huckabee\n6          Allen      John D.            16  16    Huckabee\n7        Allison      John W.            16  16    Huckabee\n8        Allison      Rebecca            16  16    Huckabee\n9        Allison      Rebecca            16  16    Huckabee\n10         Altes         R.D.            16  16    Huckabee\n11        Andres         Dale            16  16    Huckabee\n12       Anthony         John            16  16    Huckabee\n13      Arbogast       Robert            16  16    Huckabee\n14      Arbogast       Robert            16  16    Huckabee\n15         Ardle      William            16  16    Huckabee\n16          Atiq         Omar            16  16    Huckabee\n17          Atiq         Omar            16  16    Huckabee\n18         Baker        David            16  16    Huckabee\n19      Bancroft        David            16  16    Huckabee\n20         Banks      Charles            16  16    Huckabee\n21        Barbee         John            16  16    Huckabee\n22       Buckler        Steve            20  20       Obama\n23       Buckler        Steve            20  20       Obama\n24      Buckheit        Bruce            20  20       Obama\n25        Buckel        Linda            20  20       Obama\n26        Buckel        Linda            20  20       Obama\n27        Buckel        Linda            20  20       Obama\n28          Buck       Thomas            20  20       Obama\n29          Buck          Jay            20  20       Obama\n..           ...          ...           ...  ..         ...\n142      ABDELLA       THOMAS            35  35      Romney\n143       ABBOTT       WELDON            35  35      Romney\n144       ABBOTT       WELDON            35  35      Romney\n145       ABBOTT       GERALD            35  35      Romney\n146       ABBOTT       GERALD            35  35      Romney\n147       ABEDIN       ZAINUL            37  37      McCain\n148       ABBOTT        SYBIL            37  37      McCain\n149       ABBOTT        SYBIL            37  37      McCain\n150       ABBOTT       RONALD            37  37      McCain\n151       ABBOTT       RONALD            37  37      McCain\n152       ABBOTT       ROBERT            37  37      McCain\n153       ABBOTT         MIKE            37  37      McCain\n154        ABBOT        DAVID            37  37      McCain\n155         ABBO      PAULINE            37  37      McCain\n156        ABATE        MARIA            37  37      McCain\n157        ABAIR        PETER            37  37      McCain\n158    ABACHERLI      SHIRLEY            37  37      McCain\n159       AARONS      CHARLES            37  37      McCain\n160       AARONS      CHARLES            37  37      McCain\n161       AARONS      CHARLES            37  37      McCain\n162         ABEL         JOHN            37  37      McCain\n163         ABEL      MARLING            37  37      McCain\n164         ABEL      RUDOLPH            37  37      McCain\n165        ABELE       RODNEY            37  37      McCain\n166  ABERCROMBIE        DENIS            37  37      McCain\n167     ABESHAUS      MERRILL            37  37      McCain\n168      ABRAHAM       GEORGE            37  37      McCain\n169   ABRAHAMSON        PETER            37  37      McCain\n170      ABRAHAM        SALEM            37  37      McCain\n171      ABRAHAM        SALEM            37  37      McCain\n\n[172 rows x 5 columns]"
      ]
     },
     "execution_count": 90,
     "metadata": {},
     "output_type": "execute_result"
    }
   ],
   "source": [
    "dfcwci.merge(dfcand, left_on=\"candidate_id\", right_on=\"id\", how=\"left\")[cols_wanted]"
   ]
  },
  {
   "cell_type": "code",
   "execution_count": 91,
   "metadata": {
    "autoscroll": false,
    "collapsed": false,
    "ein.tags": "worksheet-0",
    "slideshow": {
     "slide_type": "-"
    }
   },
   "outputs": [
    {
     "data": {
      "text/plain": [
       "   count(contributors.id) contributors.first_name contributors.candidate_id  candidates.id  candidates.last_name\n0                      25                     Lin                   Clinton             34                    34\n1                      25                 TIMOTHY                  Giuliani             22                    22\n2                      25                    John                  Huckabee             16                    16\n3                      25                   SALEM                    McCain             37                    37\n4                      25                    Ryan                     Obama             20                    20\n5                      25                 Richard                      Paul             32                    32\n6                      25                  GERALD                    Romney             35                    35"
      ]
     },
     "execution_count": 91,
     "metadata": {},
     "output_type": "execute_result"
    }
   ],
   "source": [
    "explicitjoinsel=\"\"\"\n",
    "SELECT \n",
    "    COUNT(contributors.id), contributors.first_name, candidates.last_name,\n",
    "        contributors.candidate_id, candidates.id\n",
    "FROM \n",
    "    contributors LEFT OUTER JOIN candidates \n",
    "ON contributors.candidate_id = candidates.id\n",
    "\n",
    "GROUP BY candidates.last_name;\n",
    "\"\"\"\n",
    "out=make_query(explicitjoinsel)\n",
    "make_frame(out, legend=[\"count(contributors.id)\", \"contributors.first_name\",  \n",
    "            \"contributors.candidate_id\", \"candidates.id\", \"candidates.last_name\"])"
   ]
  },
  {
   "cell_type": "markdown",
   "metadata": {
    "ein.tags": "worksheet-0",
    "slideshow": {
     "slide_type": "-"
    }
   },
   "source": [
    "#### right outer (contributors on candidates) = left outer (candidates on contributors)"
   ]
  },
  {
   "cell_type": "markdown",
   "metadata": {
    "ein.tags": "worksheet-0",
    "slideshow": {
     "slide_type": "-"
    }
   },
   "source": [
    "![right outer](http://pandas.pydata.org/pandas-docs/stable/_images/merging_merge_on_key_right.png)"
   ]
  },
  {
   "cell_type": "code",
   "execution_count": 92,
   "metadata": {
    "autoscroll": false,
    "collapsed": false,
    "ein.tags": "worksheet-0",
    "slideshow": {
     "slide_type": "-"
    }
   },
   "outputs": [
    {
     "data": {
      "text/plain": [
       "     last_name_x first_name_x  candidate_id  id last_name_y\n0           Agee       Steven          16.0  16    Huckabee\n1           Akin      Charles          16.0  16    Huckabee\n2           Akin         Mike          16.0  16    Huckabee\n3           Akin      Rebecca          16.0  16    Huckabee\n4       Aldridge      Brittni          16.0  16    Huckabee\n5          Allen      John D.          16.0  16    Huckabee\n6          Allen      John D.          16.0  16    Huckabee\n7        Allison      John W.          16.0  16    Huckabee\n8        Allison      Rebecca          16.0  16    Huckabee\n9        Allison      Rebecca          16.0  16    Huckabee\n10         Altes         R.D.          16.0  16    Huckabee\n11        Andres         Dale          16.0  16    Huckabee\n12       Anthony         John          16.0  16    Huckabee\n13      Arbogast       Robert          16.0  16    Huckabee\n14      Arbogast       Robert          16.0  16    Huckabee\n15         Ardle      William          16.0  16    Huckabee\n16          Atiq         Omar          16.0  16    Huckabee\n17          Atiq         Omar          16.0  16    Huckabee\n18         Baker        David          16.0  16    Huckabee\n19      Bancroft        David          16.0  16    Huckabee\n20         Banks      Charles          16.0  16    Huckabee\n21        Barbee         John          16.0  16    Huckabee\n22       Buckler        Steve          20.0  20       Obama\n23       Buckler        Steve          20.0  20       Obama\n24      Buckheit        Bruce          20.0  20       Obama\n25        Buckel        Linda          20.0  20       Obama\n26        Buckel        Linda          20.0  20       Obama\n27        Buckel        Linda          20.0  20       Obama\n28          Buck       Thomas          20.0  20       Obama\n29          Buck          Jay          20.0  20       Obama\n..           ...          ...           ...  ..         ...\n152       ABBOTT       ROBERT          37.0  37      McCain\n153       ABBOTT         MIKE          37.0  37      McCain\n154        ABBOT        DAVID          37.0  37      McCain\n155         ABBO      PAULINE          37.0  37      McCain\n156        ABATE        MARIA          37.0  37      McCain\n157        ABAIR        PETER          37.0  37      McCain\n158    ABACHERLI      SHIRLEY          37.0  37      McCain\n159       AARONS      CHARLES          37.0  37      McCain\n160       AARONS      CHARLES          37.0  37      McCain\n161       AARONS      CHARLES          37.0  37      McCain\n162         ABEL         JOHN          37.0  37      McCain\n163         ABEL      MARLING          37.0  37      McCain\n164         ABEL      RUDOLPH          37.0  37      McCain\n165        ABELE       RODNEY          37.0  37      McCain\n166  ABERCROMBIE        DENIS          37.0  37      McCain\n167     ABESHAUS      MERRILL          37.0  37      McCain\n168      ABRAHAM       GEORGE          37.0  37      McCain\n169   ABRAHAMSON        PETER          37.0  37      McCain\n170      ABRAHAM        SALEM          37.0  37      McCain\n171      ABRAHAM        SALEM          37.0  37      McCain\n172          NaN          NaN           NaN  33       Biden\n173          NaN          NaN           NaN  36   Brownback\n174          NaN          NaN           NaN  39        Dodd\n175          NaN          NaN           NaN  26     Edwards\n176          NaN          NaN           NaN  24      Gravel\n177          NaN          NaN           NaN  30      Hunter\n178          NaN          NaN           NaN  31    Kucinich\n179          NaN          NaN           NaN  29  Richardson\n180          NaN          NaN           NaN  38    Tancredo\n181          NaN          NaN           NaN  41    Thompson\n\n[182 rows x 5 columns]"
      ]
     },
     "execution_count": 92,
     "metadata": {},
     "output_type": "execute_result"
    }
   ],
   "source": [
    "dfcwci.merge(dfcand, left_on=\"candidate_id\", right_on=\"id\", how=\"right\")[cols_wanted]"
   ]
  },
  {
   "cell_type": "markdown",
   "metadata": {
    "ein.tags": "worksheet-0",
    "slideshow": {
     "slide_type": "-"
    }
   },
   "source": [
    "#### full outer"
   ]
  },
  {
   "cell_type": "markdown",
   "metadata": {
    "ein.tags": "worksheet-0",
    "slideshow": {
     "slide_type": "-"
    }
   },
   "source": [
    "![outer](http://pandas.pydata.org/pandas-docs/stable/_images/merging_merge_on_key_outer.png)"
   ]
  },
  {
   "cell_type": "code",
   "execution_count": 93,
   "metadata": {
    "autoscroll": false,
    "collapsed": false,
    "ein.tags": "worksheet-0",
    "slideshow": {
     "slide_type": "-"
    }
   },
   "outputs": [
    {
     "data": {
      "text/plain": [
       "     last_name_x first_name_x  candidate_id  id last_name_y\n0           Agee       Steven          16.0  16    Huckabee\n1           Akin      Charles          16.0  16    Huckabee\n2           Akin         Mike          16.0  16    Huckabee\n3           Akin      Rebecca          16.0  16    Huckabee\n4       Aldridge      Brittni          16.0  16    Huckabee\n5          Allen      John D.          16.0  16    Huckabee\n6          Allen      John D.          16.0  16    Huckabee\n7        Allison      John W.          16.0  16    Huckabee\n8        Allison      Rebecca          16.0  16    Huckabee\n9        Allison      Rebecca          16.0  16    Huckabee\n10         Altes         R.D.          16.0  16    Huckabee\n11        Andres         Dale          16.0  16    Huckabee\n12       Anthony         John          16.0  16    Huckabee\n13      Arbogast       Robert          16.0  16    Huckabee\n14      Arbogast       Robert          16.0  16    Huckabee\n15         Ardle      William          16.0  16    Huckabee\n16          Atiq         Omar          16.0  16    Huckabee\n17          Atiq         Omar          16.0  16    Huckabee\n18         Baker        David          16.0  16    Huckabee\n19      Bancroft        David          16.0  16    Huckabee\n20         Banks      Charles          16.0  16    Huckabee\n21        Barbee         John          16.0  16    Huckabee\n22       Buckler        Steve          20.0  20       Obama\n23       Buckler        Steve          20.0  20       Obama\n24      Buckheit        Bruce          20.0  20       Obama\n25        Buckel        Linda          20.0  20       Obama\n26        Buckel        Linda          20.0  20       Obama\n27        Buckel        Linda          20.0  20       Obama\n28          Buck       Thomas          20.0  20       Obama\n29          Buck          Jay          20.0  20       Obama\n..           ...          ...           ...  ..         ...\n152       ABBOTT       ROBERT          37.0  37      McCain\n153       ABBOTT         MIKE          37.0  37      McCain\n154        ABBOT        DAVID          37.0  37      McCain\n155         ABBO      PAULINE          37.0  37      McCain\n156        ABATE        MARIA          37.0  37      McCain\n157        ABAIR        PETER          37.0  37      McCain\n158    ABACHERLI      SHIRLEY          37.0  37      McCain\n159       AARONS      CHARLES          37.0  37      McCain\n160       AARONS      CHARLES          37.0  37      McCain\n161       AARONS      CHARLES          37.0  37      McCain\n162         ABEL         JOHN          37.0  37      McCain\n163         ABEL      MARLING          37.0  37      McCain\n164         ABEL      RUDOLPH          37.0  37      McCain\n165        ABELE       RODNEY          37.0  37      McCain\n166  ABERCROMBIE        DENIS          37.0  37      McCain\n167     ABESHAUS      MERRILL          37.0  37      McCain\n168      ABRAHAM       GEORGE          37.0  37      McCain\n169   ABRAHAMSON        PETER          37.0  37      McCain\n170      ABRAHAM        SALEM          37.0  37      McCain\n171      ABRAHAM        SALEM          37.0  37      McCain\n172          NaN          NaN           NaN  33       Biden\n173          NaN          NaN           NaN  36   Brownback\n174          NaN          NaN           NaN  39        Dodd\n175          NaN          NaN           NaN  26     Edwards\n176          NaN          NaN           NaN  24      Gravel\n177          NaN          NaN           NaN  30      Hunter\n178          NaN          NaN           NaN  31    Kucinich\n179          NaN          NaN           NaN  29  Richardson\n180          NaN          NaN           NaN  38    Tancredo\n181          NaN          NaN           NaN  41    Thompson\n\n[182 rows x 5 columns]"
      ]
     },
     "execution_count": 93,
     "metadata": {},
     "output_type": "execute_result"
    }
   ],
   "source": [
    "dfcwci.merge(dfcand, left_on=\"candidate_id\", right_on=\"id\", how=\"outer\")[cols_wanted]"
   ]
  },
  {
   "cell_type": "markdown",
   "metadata": {
    "ein.tags": "worksheet-0",
    "slideshow": {
     "slide_type": "-"
    }
   },
   "source": [
    "When to use which?\n",
    "\n",
    "See this:\n",
    "\n",
    "http://blog.codinghorror.com/a-visual-explanation-of-sql-joins/"
   ]
  },
  {
   "cell_type": "markdown",
   "metadata": {
    "ein.tags": "worksheet-0",
    "slideshow": {
     "slide_type": "-"
    }
   },
   "source": [
    "## Pandas /SQL"
   ]
  },
  {
   "cell_type": "code",
   "execution_count": 94,
   "metadata": {
    "autoscroll": false,
    "collapsed": false,
    "ein.tags": "worksheet-0",
    "slideshow": {
     "slide_type": "-"
    }
   },
   "outputs": [
    {
     "data": {
      "text/plain": [
       "   id   first_name   last_name middle_name party\n0  20       Barack       Obama        None     D\n1  24         Mike      Gravel        None     D\n2  26         John     Edwards        None     D\n3  29         Bill  Richardson        None     D\n4  31       Dennis    Kucinich        None     D\n5  33       Joseph       Biden        None     D\n6  34      Hillary     Clinton          R.     D\n7  39  Christopher        Dodd          J.     D"
      ]
     },
     "execution_count": 94,
     "metadata": {},
     "output_type": "execute_result"
    }
   ],
   "source": [
    "pd.read_sql(\"SELECT * FROM candidates WHERE party= 'D';\", db)"
   ]
  },
  {
   "cell_type": "markdown",
   "metadata": {
    "ein.tags": "worksheet-0",
    "slideshow": {
     "slide_type": "-"
    }
   },
   "source": [
    "### Implicit Join"
   ]
  },
  {
   "cell_type": "code",
   "execution_count": 95,
   "metadata": {
    "autoscroll": false,
    "collapsed": false,
    "ein.tags": "worksheet-0",
    "slideshow": {
     "slide_type": "-"
    }
   },
   "outputs": [
    {
     "data": {
      "text/plain": [
       "  contributors.last_name contributors.first_name  contributors.amount candidates.last_name\n0                Buckler                   Steve                 50.0                Obama\n1                Buckler                   Steve                 25.0                Obama\n2               Buckheit                   Bruce                100.0                Obama\n3                 Buckel                   Linda               2300.0                Obama\n4                 Buckel                   Linda              -2300.0                Obama"
      ]
     },
     "execution_count": 95,
     "metadata": {},
     "output_type": "execute_result"
    }
   ],
   "source": [
    "implicitjoinsel=\"\"\"\n",
    "SELECT \n",
    "    contributors.last_name, contributors.first_name, contributors.amount, candidates.last_name \n",
    "FROM \n",
    "    contributors, candidates \n",
    "WHERE contributors.candidate_id = candidates.id\n",
    "AND candidates.last_name = 'Obama';\n",
    "\"\"\"\n",
    "out=make_query(implicitjoinsel)\n",
    "make_frame(out, legend=[\"contributors.last_name\", \n",
    "            \"contributors.first_name\", \"contributors.amount\", \"candidates.last_name\"]).head()"
   ]
  },
  {
   "cell_type": "code",
   "execution_count": 96,
   "metadata": {
    "autoscroll": false,
    "collapsed": false,
    "ein.tags": "worksheet-0",
    "slideshow": {
     "slide_type": "-"
    }
   },
   "outputs": [
    {
     "data": {
      "text/plain": [
       "   last_name first_name   amount last_name\n0    Buckler      Steve    50.00     Obama\n1    Buckler      Steve    25.00     Obama\n2   Buckheit      Bruce   100.00     Obama\n3     Buckel      Linda  2300.00     Obama\n4     Buckel      Linda -2300.00     Obama\n5     Buckel      Linda  4600.00     Obama\n6       Buck     Thomas   100.00     Obama\n7       Buck        Jay   200.00     Obama\n8       Buck     Blaine  2300.00     Obama\n9       Buck    Barbara    50.00     Obama\n10      Buck    Barbara    50.00     Obama\n11   Buchman     Mark M   460.80     Obama\n12    Bucher        Ida   100.00     Obama\n13  Buchanek  Elizabeth    50.00     Obama\n14  Buchanan       John   500.00     Obama\n15  Buchanan       John  -500.00     Obama\n16  Buchanan       John   500.00     Obama\n17  Buchanan       John   700.00     Obama\n18  Buchanan       John  -700.00     Obama\n19  Buchanan       John  1000.00     Obama\n20  Buchanan       John  1300.00     Obama\n21  Buchanan       John   200.00     Obama\n22  Buchanan       John   500.00     Obama\n23  Buchanan       John   200.09     Obama\n24  Harrison       Ryan    25.00     Obama"
      ]
     },
     "execution_count": 96,
     "metadata": {},
     "output_type": "execute_result"
    }
   ],
   "source": [
    "pd.read_sql(implicitjoinsel, db)"
   ]
  },
  {
   "cell_type": "markdown",
   "metadata": {
    "ein.tags": "worksheet-0",
    "slideshow": {
     "slide_type": "-"
    }
   },
   "source": [
    "## Useful Links"
   ]
  },
  {
   "cell_type": "markdown",
   "metadata": {
    "ein.tags": "worksheet-0",
    "slideshow": {
     "slide_type": "-"
    }
   },
   "source": [
    "- http://sebastianraschka.com/Articles/sqlite3_database.html and  http://sebastianraschka.com/Articles/2014_sqlite_in_python_tutorial.html#unique_indexes\n",
    "- https://github.com/tthibo/SQL-Tutorial\n",
    "- http://chrisalbon.com\n",
    "\n",
    "And especially for R users:\n",
    "\n",
    "- https://cran.r-project.org/web/packages/dplyr/vignettes/introduction.html\n",
    "- https://gist.github.com/TomAugspurger/6e052140eaa5fdb6e8c0/"
   ]
  }
 ],
 "metadata": {
  "kernelspec": {
   "display_name": "Python 3",
   "name": "python3"
  },
  "language_info": {
   "codemirror_mode": {
    "name": "ipython",
    "version": 3
   },
   "file_extension": ".py",
   "mimetype": "text/x-python",
   "name": "python",
   "nbconvert_exporter": "python",
   "pygments_lexer": "ipython3",
   "version": "3.6.1"
  },
  "name": "grammarofdata.ipynb"
 },
 "nbformat": 4,
 "nbformat_minor": 1
}
